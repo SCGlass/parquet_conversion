{
 "cells": [
  {
   "cell_type": "markdown",
   "metadata": {},
   "source": [
    "## Dummy dataframe"
   ]
  },
  {
   "cell_type": "markdown",
   "metadata": {},
   "source": [
    "For this project I need to create a dummy csv file that has a dataframe. It will consist of about 1000 rows and will contain relevant data and data with errors. This is because I need my parquet conversion program to clean the data before converting it to a parquet file "
   ]
  },
  {
   "cell_type": "code",
   "execution_count": 134,
   "metadata": {},
   "outputs": [],
   "source": [
    "import time\n",
    "import matplotlib.pyplot as plt\n",
    "import pandas as pd\n",
    "import numpy as np"
   ]
  },
  {
   "cell_type": "code",
   "execution_count": 135,
   "metadata": {},
   "outputs": [],
   "source": [
    "# setting random seed to 42 for consistence with random generated numbers\n",
    "np.random.seed(42) "
   ]
  },
  {
   "cell_type": "code",
   "execution_count": 136,
   "metadata": {},
   "outputs": [
    {
     "data": {
      "text/html": [
       "<div>\n",
       "<style scoped>\n",
       "    .dataframe tbody tr th:only-of-type {\n",
       "        vertical-align: middle;\n",
       "    }\n",
       "\n",
       "    .dataframe tbody tr th {\n",
       "        vertical-align: top;\n",
       "    }\n",
       "\n",
       "    .dataframe thead th {\n",
       "        text-align: right;\n",
       "    }\n",
       "</style>\n",
       "<table border=\"1\" class=\"dataframe\">\n",
       "  <thead>\n",
       "    <tr style=\"text-align: right;\">\n",
       "      <th></th>\n",
       "      <th>Timestamp</th>\n",
       "    </tr>\n",
       "  </thead>\n",
       "  <tbody>\n",
       "    <tr>\n",
       "      <th>0</th>\n",
       "      <td>1675119600</td>\n",
       "    </tr>\n",
       "    <tr>\n",
       "      <th>1</th>\n",
       "      <td>1675119601</td>\n",
       "    </tr>\n",
       "    <tr>\n",
       "      <th>2</th>\n",
       "      <td>1675119602</td>\n",
       "    </tr>\n",
       "    <tr>\n",
       "      <th>3</th>\n",
       "      <td>1675119603</td>\n",
       "    </tr>\n",
       "    <tr>\n",
       "      <th>4</th>\n",
       "      <td>1675119604</td>\n",
       "    </tr>\n",
       "  </tbody>\n",
       "</table>\n",
       "</div>"
      ],
      "text/plain": [
       "    Timestamp\n",
       "0  1675119600\n",
       "1  1675119601\n",
       "2  1675119602\n",
       "3  1675119603\n",
       "4  1675119604"
      ]
     },
     "execution_count": 136,
     "metadata": {},
     "output_type": "execute_result"
    }
   ],
   "source": [
    "# creating a dataframe with 1000 rows\n",
    "df = pd.DataFrame(index=range(1000))\n",
    "\n",
    "# Adding a Unix datetime column with one second increments\n",
    "start_time = int(time.mktime(time.strptime(\"2023-01-31 00:00:00\", \"%Y-%m-%d %H:%M:%S\")))\n",
    "\n",
    "df[\"Timestamp\"] = pd.to_numeric(range(start_time, start_time + 1000))\n",
    "\n",
    "# added this data to reference the datetime for future columns. \n",
    "#df[\"Date_time\"] = pd.to_datetime(df[\"Timestamp\"], unit=\"s\")\n",
    "\n",
    "df.head()\n"
   ]
  },
  {
   "cell_type": "code",
   "execution_count": 137,
   "metadata": {},
   "outputs": [],
   "source": [
    "def generate_dict_numbers(high, low, decimal):\n",
    "\n",
    "    result_dict = {}\n",
    "\n",
    "    for i in range(1,11):\n",
    "        if i % 2 == 0:\n",
    "                result_dict[str(i)] = np.round(np.random.uniform(low=high/2, high=high),decimals=decimal)\n",
    "        else:\n",
    "             result_dict[str(i)] = np.round(np.random.uniform(low=low, high=high/2),decimals=decimal)\n",
    "\n",
    "    return result_dict"
   ]
  },
  {
   "cell_type": "code",
   "execution_count": 138,
   "metadata": {},
   "outputs": [
    {
     "name": "stdout",
     "output_type": "stream",
     "text": [
      "{'1': 3.56, '2': 18.53, '3': 6.95, '4': 15.19, '5': 1.48, '6': 10.98, '7': 0.55, '8': 17.73, '9': 5.71, '10': 16.23}\n"
     ]
    }
   ],
   "source": [
    "speed_over_ground_dict = generate_dict_numbers(19,0,2)\n",
    "print(speed_over_ground_dict)"
   ]
  },
  {
   "cell_type": "code",
   "execution_count": 139,
   "metadata": {},
   "outputs": [],
   "source": [
    "\n",
    "def add_interpolate_points_and_cols(column,dict):\n",
    "    df[column] = np.nan\n",
    "    df.at[0, column] = dict[\"1\"]\n",
    "    df.at[199, column] = dict[\"2\"]\n",
    "    df.at[200,column] = dict[\"3\"]\n",
    "    df.at[399,column] = dict[\"4\"]\n",
    "    df.at[400, column] = dict[\"5\"]\n",
    "    df.at[599, column] = dict[\"6\"]\n",
    "    df.at[600,column] = dict[\"7\"]\n",
    "    df.at[799,column] = dict[\"8\"]\n",
    "    df.at[800,column] = dict[\"9\"]\n",
    "    df.at[999,column] = dict[\"10\"]"
   ]
  },
  {
   "cell_type": "markdown",
   "metadata": {},
   "source": [
    "### Speed column"
   ]
  },
  {
   "cell_type": "code",
   "execution_count": 140,
   "metadata": {},
   "outputs": [],
   "source": [
    "add_interpolate_points_and_cols(\"speed_over_ground\", speed_over_ground_dict)\n"
   ]
  },
  {
   "cell_type": "code",
   "execution_count": 141,
   "metadata": {},
   "outputs": [
    {
     "data": {
      "text/html": [
       "<div>\n",
       "<style scoped>\n",
       "    .dataframe tbody tr th:only-of-type {\n",
       "        vertical-align: middle;\n",
       "    }\n",
       "\n",
       "    .dataframe tbody tr th {\n",
       "        vertical-align: top;\n",
       "    }\n",
       "\n",
       "    .dataframe thead th {\n",
       "        text-align: right;\n",
       "    }\n",
       "</style>\n",
       "<table border=\"1\" class=\"dataframe\">\n",
       "  <thead>\n",
       "    <tr style=\"text-align: right;\">\n",
       "      <th></th>\n",
       "      <th>Timestamp</th>\n",
       "      <th>speed_over_ground</th>\n",
       "    </tr>\n",
       "  </thead>\n",
       "  <tbody>\n",
       "    <tr>\n",
       "      <th>0</th>\n",
       "      <td>1675119600</td>\n",
       "      <td>3.56</td>\n",
       "    </tr>\n",
       "    <tr>\n",
       "      <th>1</th>\n",
       "      <td>1675119601</td>\n",
       "      <td>NaN</td>\n",
       "    </tr>\n",
       "    <tr>\n",
       "      <th>2</th>\n",
       "      <td>1675119602</td>\n",
       "      <td>NaN</td>\n",
       "    </tr>\n",
       "    <tr>\n",
       "      <th>3</th>\n",
       "      <td>1675119603</td>\n",
       "      <td>NaN</td>\n",
       "    </tr>\n",
       "    <tr>\n",
       "      <th>4</th>\n",
       "      <td>1675119604</td>\n",
       "      <td>NaN</td>\n",
       "    </tr>\n",
       "    <tr>\n",
       "      <th>...</th>\n",
       "      <td>...</td>\n",
       "      <td>...</td>\n",
       "    </tr>\n",
       "    <tr>\n",
       "      <th>196</th>\n",
       "      <td>1675119796</td>\n",
       "      <td>NaN</td>\n",
       "    </tr>\n",
       "    <tr>\n",
       "      <th>197</th>\n",
       "      <td>1675119797</td>\n",
       "      <td>NaN</td>\n",
       "    </tr>\n",
       "    <tr>\n",
       "      <th>198</th>\n",
       "      <td>1675119798</td>\n",
       "      <td>NaN</td>\n",
       "    </tr>\n",
       "    <tr>\n",
       "      <th>199</th>\n",
       "      <td>1675119799</td>\n",
       "      <td>18.53</td>\n",
       "    </tr>\n",
       "    <tr>\n",
       "      <th>200</th>\n",
       "      <td>1675119800</td>\n",
       "      <td>6.95</td>\n",
       "    </tr>\n",
       "  </tbody>\n",
       "</table>\n",
       "<p>201 rows × 2 columns</p>\n",
       "</div>"
      ],
      "text/plain": [
       "      Timestamp  speed_over_ground\n",
       "0    1675119600               3.56\n",
       "1    1675119601                NaN\n",
       "2    1675119602                NaN\n",
       "3    1675119603                NaN\n",
       "4    1675119604                NaN\n",
       "..          ...                ...\n",
       "196  1675119796                NaN\n",
       "197  1675119797                NaN\n",
       "198  1675119798                NaN\n",
       "199  1675119799              18.53\n",
       "200  1675119800               6.95\n",
       "\n",
       "[201 rows x 2 columns]"
      ]
     },
     "execution_count": 141,
     "metadata": {},
     "output_type": "execute_result"
    }
   ],
   "source": [
    "df.loc[:200]"
   ]
  },
  {
   "cell_type": "code",
   "execution_count": 168,
   "metadata": {},
   "outputs": [
    {
     "data": {
      "text/html": [
       "<div>\n",
       "<style scoped>\n",
       "    .dataframe tbody tr th:only-of-type {\n",
       "        vertical-align: middle;\n",
       "    }\n",
       "\n",
       "    .dataframe tbody tr th {\n",
       "        vertical-align: top;\n",
       "    }\n",
       "\n",
       "    .dataframe thead th {\n",
       "        text-align: right;\n",
       "    }\n",
       "</style>\n",
       "<table border=\"1\" class=\"dataframe\">\n",
       "  <thead>\n",
       "    <tr style=\"text-align: right;\">\n",
       "      <th></th>\n",
       "      <th>Timestamp</th>\n",
       "      <th>speed_over_ground</th>\n",
       "      <th>Longitude</th>\n",
       "      <th>Latitude</th>\n",
       "      <th>engine_fuel_rate</th>\n",
       "    </tr>\n",
       "  </thead>\n",
       "  <tbody>\n",
       "    <tr>\n",
       "      <th>0</th>\n",
       "      <td>1675119600</td>\n",
       "      <td>3.56</td>\n",
       "      <td>-119.605257</td>\n",
       "      <td>0.545601</td>\n",
       "      <td>6.16</td>\n",
       "    </tr>\n",
       "    <tr>\n",
       "      <th>1</th>\n",
       "      <td>1675119601</td>\n",
       "      <td>3.84</td>\n",
       "      <td>-119.511826</td>\n",
       "      <td>0.576778</td>\n",
       "      <td>8.14</td>\n",
       "    </tr>\n",
       "    <tr>\n",
       "      <th>2</th>\n",
       "      <td>1675119602</td>\n",
       "      <td>3.51</td>\n",
       "      <td>-119.418386</td>\n",
       "      <td>0.607962</td>\n",
       "      <td>7.94</td>\n",
       "    </tr>\n",
       "    <tr>\n",
       "      <th>3</th>\n",
       "      <td>1675119603</td>\n",
       "      <td>3.60</td>\n",
       "      <td>-119.324955</td>\n",
       "      <td>0.639144</td>\n",
       "      <td>6.78</td>\n",
       "    </tr>\n",
       "    <tr>\n",
       "      <th>4</th>\n",
       "      <td>1675119604</td>\n",
       "      <td>3.34</td>\n",
       "      <td>-119.231512</td>\n",
       "      <td>0.670333</td>\n",
       "      <td>6.78</td>\n",
       "    </tr>\n",
       "    <tr>\n",
       "      <th>...</th>\n",
       "      <td>...</td>\n",
       "      <td>...</td>\n",
       "      <td>...</td>\n",
       "      <td>...</td>\n",
       "      <td>...</td>\n",
       "    </tr>\n",
       "    <tr>\n",
       "      <th>196</th>\n",
       "      <td>1675119796</td>\n",
       "      <td>17.77</td>\n",
       "      <td>101.652173</td>\n",
       "      <td>39.837367</td>\n",
       "      <td>35.14</td>\n",
       "    </tr>\n",
       "    <tr>\n",
       "      <th>197</th>\n",
       "      <td>1675119797</td>\n",
       "      <td>18.49</td>\n",
       "      <td>103.147158</td>\n",
       "      <td>40.086838</td>\n",
       "      <td>36.40</td>\n",
       "    </tr>\n",
       "    <tr>\n",
       "      <th>198</th>\n",
       "      <td>1675119798</td>\n",
       "      <td>17.75</td>\n",
       "      <td>104.642138</td>\n",
       "      <td>40.336312</td>\n",
       "      <td>35.24</td>\n",
       "    </tr>\n",
       "    <tr>\n",
       "      <th>199</th>\n",
       "      <td>1675119799</td>\n",
       "      <td>17.50</td>\n",
       "      <td>106.137119</td>\n",
       "      <td>40.585784</td>\n",
       "      <td>35.70</td>\n",
       "    </tr>\n",
       "    <tr>\n",
       "      <th>200</th>\n",
       "      <td>1675119800</td>\n",
       "      <td>17.36</td>\n",
       "      <td>107.631668</td>\n",
       "      <td>40.825271</td>\n",
       "      <td>34.30</td>\n",
       "    </tr>\n",
       "  </tbody>\n",
       "</table>\n",
       "<p>201 rows × 5 columns</p>\n",
       "</div>"
      ],
      "text/plain": [
       "      Timestamp  speed_over_ground   Longitude   Latitude  engine_fuel_rate\n",
       "0    1675119600               3.56 -119.605257   0.545601              6.16\n",
       "1    1675119601               3.84 -119.511826   0.576778              8.14\n",
       "2    1675119602               3.51 -119.418386   0.607962              7.94\n",
       "3    1675119603               3.60 -119.324955   0.639144              6.78\n",
       "4    1675119604               3.34 -119.231512   0.670333              6.78\n",
       "..          ...                ...         ...        ...               ...\n",
       "196  1675119796              17.77  101.652173  39.837367             35.14\n",
       "197  1675119797              18.49  103.147158  40.086838             36.40\n",
       "198  1675119798              17.75  104.642138  40.336312             35.24\n",
       "199  1675119799              17.50  106.137119  40.585784             35.70\n",
       "200  1675119800              17.36  107.631668  40.825271             34.30\n",
       "\n",
       "[201 rows x 5 columns]"
      ]
     },
     "execution_count": 168,
     "metadata": {},
     "output_type": "execute_result"
    }
   ],
   "source": [
    "random_fluctuations = np.random.uniform(low=-0.5, high=0.5,size=len(df))\n",
    "\n",
    "df.speed_over_ground = (df.speed_over_ground.interpolate(method=\"linear\") + random_fluctuations).round(2)\n",
    "df.loc[0:200]"
   ]
  },
  {
   "cell_type": "code",
   "execution_count": 169,
   "metadata": {},
   "outputs": [
    {
     "data": {
      "text/plain": [
       "Text(0.5, 1.0, 'speed_over_ground')"
      ]
     },
     "execution_count": 169,
     "metadata": {},
     "output_type": "execute_result"
    },
    {
     "data": {
      "image/png": "[encoded data removed]",
      "text/plain": [
       "<Figure size 640x480 with 1 Axes>"
      ]
     },
     "metadata": {},
     "output_type": "display_data"
    }
   ],
   "source": [
    "plt.plot(df[\"speed_over_ground\"])\n",
    "plt.title(\"speed_over_ground\")"
   ]
  },
  {
   "cell_type": "markdown",
   "metadata": {},
   "source": [
    "### Longitude column"
   ]
  },
  {
   "cell_type": "code",
   "execution_count": 144,
   "metadata": {},
   "outputs": [
    {
     "name": "stdout",
     "output_type": "stream",
     "text": [
      "{'1': -119.605265, '2': 177.896287, '3': 74.479933, '4': 93.0287, '5': 10.446934, '6': 172.309724, '7': -130.51552, '8': 140.331098, '9': 66.808608, '10': 92.538165}\n"
     ]
    }
   ],
   "source": [
    "longitude_dict = generate_dict_numbers(179,-179, 6) \n",
    "print(longitude_dict)"
   ]
  },
  {
   "cell_type": "code",
   "execution_count": 145,
   "metadata": {},
   "outputs": [
    {
     "data": {
      "text/html": [
       "<div>\n",
       "<style scoped>\n",
       "    .dataframe tbody tr th:only-of-type {\n",
       "        vertical-align: middle;\n",
       "    }\n",
       "\n",
       "    .dataframe tbody tr th {\n",
       "        vertical-align: top;\n",
       "    }\n",
       "\n",
       "    .dataframe thead th {\n",
       "        text-align: right;\n",
       "    }\n",
       "</style>\n",
       "<table border=\"1\" class=\"dataframe\">\n",
       "  <thead>\n",
       "    <tr style=\"text-align: right;\">\n",
       "      <th></th>\n",
       "      <th>Timestamp</th>\n",
       "      <th>speed_over_ground</th>\n",
       "      <th>Longitude</th>\n",
       "    </tr>\n",
       "  </thead>\n",
       "  <tbody>\n",
       "    <tr>\n",
       "      <th>0</th>\n",
       "      <td>1675119600</td>\n",
       "      <td>3.08</td>\n",
       "      <td>-119.605265</td>\n",
       "    </tr>\n",
       "    <tr>\n",
       "      <th>1</th>\n",
       "      <td>1675119601</td>\n",
       "      <td>4.07</td>\n",
       "      <td>NaN</td>\n",
       "    </tr>\n",
       "    <tr>\n",
       "      <th>2</th>\n",
       "      <td>1675119602</td>\n",
       "      <td>3.97</td>\n",
       "      <td>NaN</td>\n",
       "    </tr>\n",
       "    <tr>\n",
       "      <th>3</th>\n",
       "      <td>1675119603</td>\n",
       "      <td>3.39</td>\n",
       "      <td>NaN</td>\n",
       "    </tr>\n",
       "    <tr>\n",
       "      <th>4</th>\n",
       "      <td>1675119604</td>\n",
       "      <td>3.39</td>\n",
       "      <td>NaN</td>\n",
       "    </tr>\n",
       "    <tr>\n",
       "      <th>...</th>\n",
       "      <td>...</td>\n",
       "      <td>...</td>\n",
       "      <td>...</td>\n",
       "    </tr>\n",
       "    <tr>\n",
       "      <th>196</th>\n",
       "      <td>1675119796</td>\n",
       "      <td>17.57</td>\n",
       "      <td>NaN</td>\n",
       "    </tr>\n",
       "    <tr>\n",
       "      <th>197</th>\n",
       "      <td>1675119797</td>\n",
       "      <td>18.20</td>\n",
       "      <td>NaN</td>\n",
       "    </tr>\n",
       "    <tr>\n",
       "      <th>198</th>\n",
       "      <td>1675119798</td>\n",
       "      <td>17.62</td>\n",
       "      <td>NaN</td>\n",
       "    </tr>\n",
       "    <tr>\n",
       "      <th>199</th>\n",
       "      <td>1675119799</td>\n",
       "      <td>17.85</td>\n",
       "      <td>177.896287</td>\n",
       "    </tr>\n",
       "    <tr>\n",
       "      <th>200</th>\n",
       "      <td>1675119800</td>\n",
       "      <td>17.15</td>\n",
       "      <td>74.479933</td>\n",
       "    </tr>\n",
       "  </tbody>\n",
       "</table>\n",
       "<p>201 rows × 3 columns</p>\n",
       "</div>"
      ],
      "text/plain": [
       "      Timestamp  speed_over_ground   Longitude\n",
       "0    1675119600               3.08 -119.605265\n",
       "1    1675119601               4.07         NaN\n",
       "2    1675119602               3.97         NaN\n",
       "3    1675119603               3.39         NaN\n",
       "4    1675119604               3.39         NaN\n",
       "..          ...                ...         ...\n",
       "196  1675119796              17.57         NaN\n",
       "197  1675119797              18.20         NaN\n",
       "198  1675119798              17.62         NaN\n",
       "199  1675119799              17.85  177.896287\n",
       "200  1675119800              17.15   74.479933\n",
       "\n",
       "[201 rows x 3 columns]"
      ]
     },
     "execution_count": 145,
     "metadata": {},
     "output_type": "execute_result"
    }
   ],
   "source": [
    "add_interpolate_points_and_cols(\"Longitude\", longitude_dict)\n",
    "df.loc[:200]"
   ]
  },
  {
   "cell_type": "code",
   "execution_count": 163,
   "metadata": {},
   "outputs": [
    {
     "data": {
      "text/html": [
       "<div>\n",
       "<style scoped>\n",
       "    .dataframe tbody tr th:only-of-type {\n",
       "        vertical-align: middle;\n",
       "    }\n",
       "\n",
       "    .dataframe tbody tr th {\n",
       "        vertical-align: top;\n",
       "    }\n",
       "\n",
       "    .dataframe thead th {\n",
       "        text-align: right;\n",
       "    }\n",
       "</style>\n",
       "<table border=\"1\" class=\"dataframe\">\n",
       "  <thead>\n",
       "    <tr style=\"text-align: right;\">\n",
       "      <th></th>\n",
       "      <th>Timestamp</th>\n",
       "      <th>speed_over_ground</th>\n",
       "      <th>Longitude</th>\n",
       "      <th>Latitude</th>\n",
       "    </tr>\n",
       "  </thead>\n",
       "  <tbody>\n",
       "    <tr>\n",
       "      <th>0</th>\n",
       "      <td>1675119600</td>\n",
       "      <td>3.08</td>\n",
       "      <td>-119.605257</td>\n",
       "      <td>0.545601</td>\n",
       "    </tr>\n",
       "    <tr>\n",
       "      <th>1</th>\n",
       "      <td>1675119601</td>\n",
       "      <td>4.07</td>\n",
       "      <td>-119.511826</td>\n",
       "      <td>0.576778</td>\n",
       "    </tr>\n",
       "    <tr>\n",
       "      <th>2</th>\n",
       "      <td>1675119602</td>\n",
       "      <td>3.97</td>\n",
       "      <td>-119.418386</td>\n",
       "      <td>0.607962</td>\n",
       "    </tr>\n",
       "    <tr>\n",
       "      <th>3</th>\n",
       "      <td>1675119603</td>\n",
       "      <td>3.39</td>\n",
       "      <td>-119.324955</td>\n",
       "      <td>0.639144</td>\n",
       "    </tr>\n",
       "    <tr>\n",
       "      <th>4</th>\n",
       "      <td>1675119604</td>\n",
       "      <td>3.39</td>\n",
       "      <td>-119.231512</td>\n",
       "      <td>0.670333</td>\n",
       "    </tr>\n",
       "    <tr>\n",
       "      <th>...</th>\n",
       "      <td>...</td>\n",
       "      <td>...</td>\n",
       "      <td>...</td>\n",
       "      <td>...</td>\n",
       "    </tr>\n",
       "    <tr>\n",
       "      <th>196</th>\n",
       "      <td>1675119796</td>\n",
       "      <td>17.57</td>\n",
       "      <td>101.652173</td>\n",
       "      <td>39.837367</td>\n",
       "    </tr>\n",
       "    <tr>\n",
       "      <th>197</th>\n",
       "      <td>1675119797</td>\n",
       "      <td>18.20</td>\n",
       "      <td>103.147158</td>\n",
       "      <td>40.086838</td>\n",
       "    </tr>\n",
       "    <tr>\n",
       "      <th>198</th>\n",
       "      <td>1675119798</td>\n",
       "      <td>17.62</td>\n",
       "      <td>104.642138</td>\n",
       "      <td>40.336312</td>\n",
       "    </tr>\n",
       "    <tr>\n",
       "      <th>199</th>\n",
       "      <td>1675119799</td>\n",
       "      <td>17.85</td>\n",
       "      <td>106.137119</td>\n",
       "      <td>40.585784</td>\n",
       "    </tr>\n",
       "    <tr>\n",
       "      <th>200</th>\n",
       "      <td>1675119800</td>\n",
       "      <td>17.15</td>\n",
       "      <td>107.631668</td>\n",
       "      <td>40.825271</td>\n",
       "    </tr>\n",
       "  </tbody>\n",
       "</table>\n",
       "<p>201 rows × 4 columns</p>\n",
       "</div>"
      ],
      "text/plain": [
       "      Timestamp  speed_over_ground   Longitude   Latitude\n",
       "0    1675119600               3.08 -119.605257   0.545601\n",
       "1    1675119601               4.07 -119.511826   0.576778\n",
       "2    1675119602               3.97 -119.418386   0.607962\n",
       "3    1675119603               3.39 -119.324955   0.639144\n",
       "4    1675119604               3.39 -119.231512   0.670333\n",
       "..          ...                ...         ...        ...\n",
       "196  1675119796              17.57  101.652173  39.837367\n",
       "197  1675119797              18.20  103.147158  40.086838\n",
       "198  1675119798              17.62  104.642138  40.336312\n",
       "199  1675119799              17.85  106.137119  40.585784\n",
       "200  1675119800              17.15  107.631668  40.825271\n",
       "\n",
       "[201 rows x 4 columns]"
      ]
     },
     "execution_count": 163,
     "metadata": {},
     "output_type": "execute_result"
    }
   ],
   "source": [
    "#random_fluctuations = np.random.uniform(low=-0.5, high=0.5,size=len(df))\n",
    "\n",
    "fluctuations = np.random.uniform(low=-0.000005, high=0.000005,size=len(df))\n",
    "df.Longitude = (df.Longitude.interpolate(method=\"linear\").rolling(window=40, min_periods=1).mean() + fluctuations).round(6)\n",
    "df.loc[:200]"
   ]
  },
  {
   "cell_type": "code",
   "execution_count": 164,
   "metadata": {},
   "outputs": [
    {
     "data": {
      "text/plain": [
       "Text(0.5, 1.0, 'Longitude')"
      ]
     },
     "execution_count": 164,
     "metadata": {},
     "output_type": "execute_result"
    },
    {
     "data": {
      "image/png": "[encoded data removed]",
      "text/plain": [
       "<Figure size 640x480 with 1 Axes>"
      ]
     },
     "metadata": {},
     "output_type": "display_data"
    }
   ],
   "source": [
    "plt.plot(df[\"Longitude\"])\n",
    "plt.title(\"Longitude\")"
   ]
  },
  {
   "cell_type": "markdown",
   "metadata": {},
   "source": [
    "### Latitude"
   ]
  },
  {
   "cell_type": "code",
   "execution_count": 154,
   "metadata": {},
   "outputs": [
    {
     "name": "stdout",
     "output_type": "stream",
     "text": [
      "{'1': 0.545593, '2': 50.190436, '3': -69.374288, '4': 78.706981, '5': -60.490121, '6': 78.542629, '7': 36.807672, '8': 70.855815, '9': -0.858379, '10': 62.323378}\n"
     ]
    }
   ],
   "source": [
    "latitude_dict = generate_dict_numbers(79,-79, 6)\n",
    "print(latitude_dict)"
   ]
  },
  {
   "cell_type": "code",
   "execution_count": 157,
   "metadata": {},
   "outputs": [
    {
     "data": {
      "text/html": [
       "<div>\n",
       "<style scoped>\n",
       "    .dataframe tbody tr th:only-of-type {\n",
       "        vertical-align: middle;\n",
       "    }\n",
       "\n",
       "    .dataframe tbody tr th {\n",
       "        vertical-align: top;\n",
       "    }\n",
       "\n",
       "    .dataframe thead th {\n",
       "        text-align: right;\n",
       "    }\n",
       "</style>\n",
       "<table border=\"1\" class=\"dataframe\">\n",
       "  <thead>\n",
       "    <tr style=\"text-align: right;\">\n",
       "      <th></th>\n",
       "      <th>Timestamp</th>\n",
       "      <th>speed_over_ground</th>\n",
       "      <th>Longitude</th>\n",
       "      <th>Latitude</th>\n",
       "    </tr>\n",
       "  </thead>\n",
       "  <tbody>\n",
       "    <tr>\n",
       "      <th>0</th>\n",
       "      <td>1675119600</td>\n",
       "      <td>3.08</td>\n",
       "      <td>-119.605260</td>\n",
       "      <td>0.545593</td>\n",
       "    </tr>\n",
       "    <tr>\n",
       "      <th>1</th>\n",
       "      <td>1675119601</td>\n",
       "      <td>4.07</td>\n",
       "      <td>-119.418389</td>\n",
       "      <td>NaN</td>\n",
       "    </tr>\n",
       "    <tr>\n",
       "      <th>2</th>\n",
       "      <td>1675119602</td>\n",
       "      <td>3.97</td>\n",
       "      <td>-119.231513</td>\n",
       "      <td>NaN</td>\n",
       "    </tr>\n",
       "    <tr>\n",
       "      <th>3</th>\n",
       "      <td>1675119603</td>\n",
       "      <td>3.39</td>\n",
       "      <td>-119.044645</td>\n",
       "      <td>NaN</td>\n",
       "    </tr>\n",
       "    <tr>\n",
       "      <th>4</th>\n",
       "      <td>1675119604</td>\n",
       "      <td>3.39</td>\n",
       "      <td>-118.857775</td>\n",
       "      <td>NaN</td>\n",
       "    </tr>\n",
       "  </tbody>\n",
       "</table>\n",
       "</div>"
      ],
      "text/plain": [
       "    Timestamp  speed_over_ground   Longitude  Latitude\n",
       "0  1675119600               3.08 -119.605260  0.545593\n",
       "1  1675119601               4.07 -119.418389       NaN\n",
       "2  1675119602               3.97 -119.231513       NaN\n",
       "3  1675119603               3.39 -119.044645       NaN\n",
       "4  1675119604               3.39 -118.857775       NaN"
      ]
     },
     "execution_count": 157,
     "metadata": {},
     "output_type": "execute_result"
    }
   ],
   "source": [
    "add_interpolate_points_and_cols(\"Latitude\", latitude_dict)\n",
    "df.head()"
   ]
  },
  {
   "cell_type": "code",
   "execution_count": 161,
   "metadata": {},
   "outputs": [
    {
     "data": {
      "text/html": [
       "<div>\n",
       "<style scoped>\n",
       "    .dataframe tbody tr th:only-of-type {\n",
       "        vertical-align: middle;\n",
       "    }\n",
       "\n",
       "    .dataframe tbody tr th {\n",
       "        vertical-align: top;\n",
       "    }\n",
       "\n",
       "    .dataframe thead th {\n",
       "        text-align: right;\n",
       "    }\n",
       "</style>\n",
       "<table border=\"1\" class=\"dataframe\">\n",
       "  <thead>\n",
       "    <tr style=\"text-align: right;\">\n",
       "      <th></th>\n",
       "      <th>Timestamp</th>\n",
       "      <th>speed_over_ground</th>\n",
       "      <th>Longitude</th>\n",
       "      <th>Latitude</th>\n",
       "    </tr>\n",
       "  </thead>\n",
       "  <tbody>\n",
       "    <tr>\n",
       "      <th>0</th>\n",
       "      <td>1675119600</td>\n",
       "      <td>3.08</td>\n",
       "      <td>-119.605260</td>\n",
       "      <td>0.545601</td>\n",
       "    </tr>\n",
       "    <tr>\n",
       "      <th>1</th>\n",
       "      <td>1675119601</td>\n",
       "      <td>4.07</td>\n",
       "      <td>-119.418389</td>\n",
       "      <td>0.576778</td>\n",
       "    </tr>\n",
       "    <tr>\n",
       "      <th>2</th>\n",
       "      <td>1675119602</td>\n",
       "      <td>3.97</td>\n",
       "      <td>-119.231513</td>\n",
       "      <td>0.607962</td>\n",
       "    </tr>\n",
       "    <tr>\n",
       "      <th>3</th>\n",
       "      <td>1675119603</td>\n",
       "      <td>3.39</td>\n",
       "      <td>-119.044645</td>\n",
       "      <td>0.639144</td>\n",
       "    </tr>\n",
       "    <tr>\n",
       "      <th>4</th>\n",
       "      <td>1675119604</td>\n",
       "      <td>3.39</td>\n",
       "      <td>-118.857775</td>\n",
       "      <td>0.670333</td>\n",
       "    </tr>\n",
       "    <tr>\n",
       "      <th>...</th>\n",
       "      <td>...</td>\n",
       "      <td>...</td>\n",
       "      <td>...</td>\n",
       "      <td>...</td>\n",
       "    </tr>\n",
       "    <tr>\n",
       "      <th>196</th>\n",
       "      <td>1675119796</td>\n",
       "      <td>17.57</td>\n",
       "      <td>130.804330</td>\n",
       "      <td>39.837367</td>\n",
       "    </tr>\n",
       "    <tr>\n",
       "      <th>197</th>\n",
       "      <td>1675119797</td>\n",
       "      <td>18.20</td>\n",
       "      <td>132.299311</td>\n",
       "      <td>40.086838</td>\n",
       "    </tr>\n",
       "    <tr>\n",
       "      <th>198</th>\n",
       "      <td>1675119798</td>\n",
       "      <td>17.62</td>\n",
       "      <td>133.794301</td>\n",
       "      <td>40.336312</td>\n",
       "    </tr>\n",
       "    <tr>\n",
       "      <th>199</th>\n",
       "      <td>1675119799</td>\n",
       "      <td>17.85</td>\n",
       "      <td>135.289284</td>\n",
       "      <td>40.585784</td>\n",
       "    </tr>\n",
       "    <tr>\n",
       "      <th>200</th>\n",
       "      <td>1675119800</td>\n",
       "      <td>17.15</td>\n",
       "      <td>136.766779</td>\n",
       "      <td>40.825271</td>\n",
       "    </tr>\n",
       "  </tbody>\n",
       "</table>\n",
       "<p>201 rows × 4 columns</p>\n",
       "</div>"
      ],
      "text/plain": [
       "      Timestamp  speed_over_ground   Longitude   Latitude\n",
       "0    1675119600               3.08 -119.605260   0.545601\n",
       "1    1675119601               4.07 -119.418389   0.576778\n",
       "2    1675119602               3.97 -119.231513   0.607962\n",
       "3    1675119603               3.39 -119.044645   0.639144\n",
       "4    1675119604               3.39 -118.857775   0.670333\n",
       "..          ...                ...         ...        ...\n",
       "196  1675119796              17.57  130.804330  39.837367\n",
       "197  1675119797              18.20  132.299311  40.086838\n",
       "198  1675119798              17.62  133.794301  40.336312\n",
       "199  1675119799              17.85  135.289284  40.585784\n",
       "200  1675119800              17.15  136.766779  40.825271\n",
       "\n",
       "[201 rows x 4 columns]"
      ]
     },
     "execution_count": 161,
     "metadata": {},
     "output_type": "execute_result"
    }
   ],
   "source": [
    "fluctuations = np.random.uniform(low=-0.000005, high=0.000005,size=len(df))\n",
    "df.Latitude = (df.Latitude.interpolate(method=\"linear\").rolling(window=40, min_periods=1).mean() + fluctuations).round(6)\n",
    "df.loc[:200]"
   ]
  },
  {
   "cell_type": "code",
   "execution_count": 162,
   "metadata": {},
   "outputs": [
    {
     "data": {
      "text/plain": [
       "Text(0.5, 1.0, 'Latitude')"
      ]
     },
     "execution_count": 162,
     "metadata": {},
     "output_type": "execute_result"
    },
    {
     "data": {
      "image/png": "[encoded data removed]",
      "text/plain": [
       "<Figure size 640x480 with 1 Axes>"
      ]
     },
     "metadata": {},
     "output_type": "display_data"
    }
   ],
   "source": [
    "plt.plot(df[\"Latitude\"])\n",
    "plt.title(\"Latitude\")"
   ]
  },
  {
   "cell_type": "markdown",
   "metadata": {},
   "source": [
    "### Engine fuel rate"
   ]
  },
  {
   "cell_type": "code",
   "execution_count": 178,
   "metadata": {},
   "outputs": [
    {
     "data": {
      "text/plain": [
       "55.76"
      ]
     },
     "execution_count": 178,
     "metadata": {},
     "output_type": "execute_result"
    }
   ],
   "source": [
    "df[\"engine_fuel_rate\"] = np.clip(df[\"speed_over_ground\"]* 3, 0, 100)+ random_fluctuations.round(2)\n",
    "df[\"engine_fuel_rate\"].max()"
   ]
  },
  {
   "cell_type": "code",
   "execution_count": 172,
   "metadata": {},
   "outputs": [
    {
     "data": {
      "text/plain": [
       "Text(0.5, 1.0, 'Fuel rate')"
      ]
     },
     "execution_count": 172,
     "metadata": {},
     "output_type": "execute_result"
    },
    {
     "data": {
      "image/png": "[encoded data removed]",
      "text/plain": [
       "<Figure size 640x480 with 1 Axes>"
      ]
     },
     "metadata": {},
     "output_type": "display_data"
    }
   ],
   "source": [
    "plt.plot(df[\"engine_fuel_rate\"])\n",
    "plt.title(\"Fuel rate\")"
   ]
  },
  {
   "cell_type": "markdown",
   "metadata": {},
   "source": [
    "The next stage after creating this data frame is to add some bad data. This can be done in a few ways. I should have values that are not applicable in certain ranges within the selected column. Also I will add nan values within in each colum so my next program can handle them. Below are some examples on what I will apply on each column.\n",
    "\n",
    "- Time stamp:   \n",
    "    - remove one or more number so there is less then 10 digits\n",
    "    - add nan value\n",
    "    - add 0 value\n",
    "    - add string value\n",
    "\n",
    "- speed_over_ground \n",
    "    - add string value\n",
    "    - add minus value\n",
    "    - add positive number over 20\n",
    "    - add nan value\n",
    "\n",
    "\n",
    "- Longitude and Latitude \n",
    "    - add string value\n",
    "    - add minus values beyond the range of - 90 and -180\n",
    "    - add positive values over 90 and 180\n",
    "    - add string value\n",
    "    - add nan value\n",
    "  \n",
    "\n",
    "- engine_fuel_rate \n",
    "    - add string value\n",
    "    - add minus values \n",
    "    - add value over range of 100\n",
    "    - add nan value\n"
   ]
  }
 ],
 "metadata": {
  "kernelspec": {
   "display_name": "venv",
   "language": "python",
   "name": "python3"
  },
  "language_info": {
   "codemirror_mode": {
    "name": "ipython",
    "version": 3
   },
   "file_extension": ".py",
   "mimetype": "text/x-python",
   "name": "python",
   "nbconvert_exporter": "python",
   "pygments_lexer": "ipython3",
   "version": "3.11.7"
  }
 },
 "nbformat": 4,
 "nbformat_minor": 2
}
