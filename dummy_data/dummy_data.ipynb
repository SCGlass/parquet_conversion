{
 "cells": [
  {
   "cell_type": "markdown",
   "metadata": {},
   "source": [
    "## Dummy dataframe"
   ]
  },
  {
   "cell_type": "markdown",
   "metadata": {},
   "source": [
    "For this project I need to create a dummy csv file that has a dataframe. It will consist of about 1000 rows and will contain relevant data and data with errors. This is because I need my parquet conversion program to clean the data before converting it to a parquet file "
   ]
  },
  {
   "cell_type": "code",
   "execution_count": 2,
   "metadata": {},
   "outputs": [],
   "source": [
    "import time\n",
    "import matplotlib.pyplot as plt\n",
    "import pandas as pd\n",
    "import numpy as np"
   ]
  },
  {
   "cell_type": "code",
   "execution_count": 658,
   "metadata": {},
   "outputs": [],
   "source": [
    "# setting random seed to 42 for consistence with random generated numbers\n",
    "np.random.seed(42) "
   ]
  },
  {
   "cell_type": "code",
   "execution_count": 659,
   "metadata": {},
   "outputs": [
    {
     "data": {
      "text/html": [
       "<div>\n",
       "<style scoped>\n",
       "    .dataframe tbody tr th:only-of-type {\n",
       "        vertical-align: middle;\n",
       "    }\n",
       "\n",
       "    .dataframe tbody tr th {\n",
       "        vertical-align: top;\n",
       "    }\n",
       "\n",
       "    .dataframe thead th {\n",
       "        text-align: right;\n",
       "    }\n",
       "</style>\n",
       "<table border=\"1\" class=\"dataframe\">\n",
       "  <thead>\n",
       "    <tr style=\"text-align: right;\">\n",
       "      <th></th>\n",
       "      <th>Timestamp</th>\n",
       "    </tr>\n",
       "  </thead>\n",
       "  <tbody>\n",
       "    <tr>\n",
       "      <th>0</th>\n",
       "      <td>1675119600</td>\n",
       "    </tr>\n",
       "    <tr>\n",
       "      <th>1</th>\n",
       "      <td>1675119601</td>\n",
       "    </tr>\n",
       "    <tr>\n",
       "      <th>2</th>\n",
       "      <td>1675119602</td>\n",
       "    </tr>\n",
       "    <tr>\n",
       "      <th>3</th>\n",
       "      <td>1675119603</td>\n",
       "    </tr>\n",
       "    <tr>\n",
       "      <th>4</th>\n",
       "      <td>1675119604</td>\n",
       "    </tr>\n",
       "  </tbody>\n",
       "</table>\n",
       "</div>"
      ],
      "text/plain": [
       "    Timestamp\n",
       "0  1675119600\n",
       "1  1675119601\n",
       "2  1675119602\n",
       "3  1675119603\n",
       "4  1675119604"
      ]
     },
     "execution_count": 659,
     "metadata": {},
     "output_type": "execute_result"
    }
   ],
   "source": [
    "# creating a dataframe with 1000 rows\n",
    "df = pd.DataFrame(index=range(1000))\n",
    "\n",
    "# Adding a Unix datetime column with one second increments\n",
    "start_time = int(time.mktime(time.strptime(\"2023-01-31 00:00:00\", \"%Y-%m-%d %H:%M:%S\")))\n",
    "\n",
    "df[\"Timestamp\"] = pd.to_numeric(range(start_time, start_time + 1000))\n",
    "\n",
    "df[\"Timestamp\"] = df[\"Timestamp\"].astype(int)\n",
    "\n",
    "# added this data to reference the datetime for future columns. \n",
    "#df[\"Date_time\"] = pd.to_datetime(df[\"Timestamp\"], unit=\"s\")\n",
    "\n",
    "df.head()\n"
   ]
  },
  {
   "cell_type": "code",
   "execution_count": 660,
   "metadata": {},
   "outputs": [
    {
     "name": "stdout",
     "output_type": "stream",
     "text": [
      "<class 'pandas.core.frame.DataFrame'>\n",
      "RangeIndex: 1000 entries, 0 to 999\n",
      "Data columns (total 1 columns):\n",
      " #   Column     Non-Null Count  Dtype\n",
      "---  ------     --------------  -----\n",
      " 0   Timestamp  1000 non-null   int64\n",
      "dtypes: int64(1)\n",
      "memory usage: 7.9 KB\n"
     ]
    }
   ],
   "source": [
    "df.info()"
   ]
  },
  {
   "cell_type": "code",
   "execution_count": 661,
   "metadata": {},
   "outputs": [],
   "source": [
    "def generate_dict_numbers(high, low, decimal):\n",
    "\n",
    "    result_dict = {}\n",
    "\n",
    "    for i in range(1,11):\n",
    "        if i % 2 == 0:\n",
    "                result_dict[str(i)] = np.round(np.random.uniform(low=high/2, high=high),decimals=decimal)\n",
    "        else:\n",
    "             result_dict[str(i)] = np.round(np.random.uniform(low=low, high=high/2),decimals=decimal)\n",
    "\n",
    "    return result_dict"
   ]
  },
  {
   "cell_type": "code",
   "execution_count": 662,
   "metadata": {},
   "outputs": [
    {
     "name": "stdout",
     "output_type": "stream",
     "text": [
      "{'1': 3.56, '2': 18.53, '3': 6.95, '4': 15.19, '5': 1.48, '6': 10.98, '7': 0.55, '8': 17.73, '9': 5.71, '10': 16.23}\n"
     ]
    }
   ],
   "source": [
    "speed_over_ground_dict = generate_dict_numbers(19,0,2)\n",
    "print(speed_over_ground_dict)"
   ]
  },
  {
   "cell_type": "code",
   "execution_count": 663,
   "metadata": {},
   "outputs": [],
   "source": [
    "\n",
    "def add_interpolate_points_and_cols(column,dict):\n",
    "    df[column] = np.nan\n",
    "    df.at[0, column] = dict[\"1\"]\n",
    "    df.at[199, column] = dict[\"2\"]\n",
    "    df.at[200,column] = dict[\"3\"]\n",
    "    df.at[399,column] = dict[\"4\"]\n",
    "    df.at[400, column] = dict[\"5\"]\n",
    "    df.at[599, column] = dict[\"6\"]\n",
    "    df.at[600,column] = dict[\"7\"]\n",
    "    df.at[799,column] = dict[\"8\"]\n",
    "    df.at[800,column] = dict[\"9\"]\n",
    "    df.at[999,column] = dict[\"10\"]"
   ]
  },
  {
   "cell_type": "markdown",
   "metadata": {},
   "source": [
    "### Speed column"
   ]
  },
  {
   "cell_type": "code",
   "execution_count": 664,
   "metadata": {},
   "outputs": [],
   "source": [
    "add_interpolate_points_and_cols(\"speed_over_ground\", speed_over_ground_dict)\n"
   ]
  },
  {
   "cell_type": "code",
   "execution_count": 665,
   "metadata": {},
   "outputs": [
    {
     "data": {
      "text/html": [
       "<div>\n",
       "<style scoped>\n",
       "    .dataframe tbody tr th:only-of-type {\n",
       "        vertical-align: middle;\n",
       "    }\n",
       "\n",
       "    .dataframe tbody tr th {\n",
       "        vertical-align: top;\n",
       "    }\n",
       "\n",
       "    .dataframe thead th {\n",
       "        text-align: right;\n",
       "    }\n",
       "</style>\n",
       "<table border=\"1\" class=\"dataframe\">\n",
       "  <thead>\n",
       "    <tr style=\"text-align: right;\">\n",
       "      <th></th>\n",
       "      <th>Timestamp</th>\n",
       "      <th>speed_over_ground</th>\n",
       "    </tr>\n",
       "  </thead>\n",
       "  <tbody>\n",
       "    <tr>\n",
       "      <th>0</th>\n",
       "      <td>1675119600</td>\n",
       "      <td>3.56</td>\n",
       "    </tr>\n",
       "    <tr>\n",
       "      <th>1</th>\n",
       "      <td>1675119601</td>\n",
       "      <td>NaN</td>\n",
       "    </tr>\n",
       "    <tr>\n",
       "      <th>2</th>\n",
       "      <td>1675119602</td>\n",
       "      <td>NaN</td>\n",
       "    </tr>\n",
       "    <tr>\n",
       "      <th>3</th>\n",
       "      <td>1675119603</td>\n",
       "      <td>NaN</td>\n",
       "    </tr>\n",
       "    <tr>\n",
       "      <th>4</th>\n",
       "      <td>1675119604</td>\n",
       "      <td>NaN</td>\n",
       "    </tr>\n",
       "    <tr>\n",
       "      <th>...</th>\n",
       "      <td>...</td>\n",
       "      <td>...</td>\n",
       "    </tr>\n",
       "    <tr>\n",
       "      <th>196</th>\n",
       "      <td>1675119796</td>\n",
       "      <td>NaN</td>\n",
       "    </tr>\n",
       "    <tr>\n",
       "      <th>197</th>\n",
       "      <td>1675119797</td>\n",
       "      <td>NaN</td>\n",
       "    </tr>\n",
       "    <tr>\n",
       "      <th>198</th>\n",
       "      <td>1675119798</td>\n",
       "      <td>NaN</td>\n",
       "    </tr>\n",
       "    <tr>\n",
       "      <th>199</th>\n",
       "      <td>1675119799</td>\n",
       "      <td>18.53</td>\n",
       "    </tr>\n",
       "    <tr>\n",
       "      <th>200</th>\n",
       "      <td>1675119800</td>\n",
       "      <td>6.95</td>\n",
       "    </tr>\n",
       "  </tbody>\n",
       "</table>\n",
       "<p>201 rows × 2 columns</p>\n",
       "</div>"
      ],
      "text/plain": [
       "      Timestamp  speed_over_ground\n",
       "0    1675119600               3.56\n",
       "1    1675119601                NaN\n",
       "2    1675119602                NaN\n",
       "3    1675119603                NaN\n",
       "4    1675119604                NaN\n",
       "..          ...                ...\n",
       "196  1675119796                NaN\n",
       "197  1675119797                NaN\n",
       "198  1675119798                NaN\n",
       "199  1675119799              18.53\n",
       "200  1675119800               6.95\n",
       "\n",
       "[201 rows x 2 columns]"
      ]
     },
     "execution_count": 665,
     "metadata": {},
     "output_type": "execute_result"
    }
   ],
   "source": [
    "df.loc[:200]"
   ]
  },
  {
   "cell_type": "code",
   "execution_count": 666,
   "metadata": {},
   "outputs": [
    {
     "data": {
      "text/html": [
       "<div>\n",
       "<style scoped>\n",
       "    .dataframe tbody tr th:only-of-type {\n",
       "        vertical-align: middle;\n",
       "    }\n",
       "\n",
       "    .dataframe tbody tr th {\n",
       "        vertical-align: top;\n",
       "    }\n",
       "\n",
       "    .dataframe thead th {\n",
       "        text-align: right;\n",
       "    }\n",
       "</style>\n",
       "<table border=\"1\" class=\"dataframe\">\n",
       "  <thead>\n",
       "    <tr style=\"text-align: right;\">\n",
       "      <th></th>\n",
       "      <th>Timestamp</th>\n",
       "      <th>speed_over_ground</th>\n",
       "    </tr>\n",
       "  </thead>\n",
       "  <tbody>\n",
       "    <tr>\n",
       "      <th>0</th>\n",
       "      <td>1675119600</td>\n",
       "      <td>3.08</td>\n",
       "    </tr>\n",
       "    <tr>\n",
       "      <th>1</th>\n",
       "      <td>1675119601</td>\n",
       "      <td>4.11</td>\n",
       "    </tr>\n",
       "    <tr>\n",
       "      <th>2</th>\n",
       "      <td>1675119602</td>\n",
       "      <td>4.04</td>\n",
       "    </tr>\n",
       "    <tr>\n",
       "      <th>3</th>\n",
       "      <td>1675119603</td>\n",
       "      <td>3.50</td>\n",
       "    </tr>\n",
       "    <tr>\n",
       "      <th>4</th>\n",
       "      <td>1675119604</td>\n",
       "      <td>3.54</td>\n",
       "    </tr>\n",
       "    <tr>\n",
       "      <th>...</th>\n",
       "      <td>...</td>\n",
       "      <td>...</td>\n",
       "    </tr>\n",
       "    <tr>\n",
       "      <th>196</th>\n",
       "      <td>1675119796</td>\n",
       "      <td>17.91</td>\n",
       "    </tr>\n",
       "    <tr>\n",
       "      <th>197</th>\n",
       "      <td>1675119797</td>\n",
       "      <td>18.54</td>\n",
       "    </tr>\n",
       "    <tr>\n",
       "      <th>198</th>\n",
       "      <td>1675119798</td>\n",
       "      <td>17.96</td>\n",
       "    </tr>\n",
       "    <tr>\n",
       "      <th>199</th>\n",
       "      <td>1675119799</td>\n",
       "      <td>18.19</td>\n",
       "    </tr>\n",
       "    <tr>\n",
       "      <th>200</th>\n",
       "      <td>1675119800</td>\n",
       "      <td>7.00</td>\n",
       "    </tr>\n",
       "  </tbody>\n",
       "</table>\n",
       "<p>201 rows × 2 columns</p>\n",
       "</div>"
      ],
      "text/plain": [
       "      Timestamp  speed_over_ground\n",
       "0    1675119600               3.08\n",
       "1    1675119601               4.11\n",
       "2    1675119602               4.04\n",
       "3    1675119603               3.50\n",
       "4    1675119604               3.54\n",
       "..          ...                ...\n",
       "196  1675119796              17.91\n",
       "197  1675119797              18.54\n",
       "198  1675119798              17.96\n",
       "199  1675119799              18.19\n",
       "200  1675119800               7.00\n",
       "\n",
       "[201 rows x 2 columns]"
      ]
     },
     "execution_count": 666,
     "metadata": {},
     "output_type": "execute_result"
    }
   ],
   "source": [
    "random_fluctuations = np.random.uniform(low=-0.5, high=0.5,size=len(df))\n",
    "\n",
    "df.speed_over_ground = (df.speed_over_ground.interpolate(method=\"linear\") + random_fluctuations).round(2)\n",
    "df.loc[0:200]"
   ]
  },
  {
   "cell_type": "code",
   "execution_count": 667,
   "metadata": {},
   "outputs": [
    {
     "data": {
      "text/plain": [
       "Text(0.5, 1.0, 'speed_over_ground')"
      ]
     },
     "execution_count": 667,
     "metadata": {},
     "output_type": "execute_result"
    },
    {
     "data": {
      "image/png": "[encoded data removed]",
      "text/plain": [
       "<Figure size 640x480 with 1 Axes>"
      ]
     },
     "metadata": {},
     "output_type": "display_data"
    }
   ],
   "source": [
    "plt.plot(df[\"speed_over_ground\"])\n",
    "plt.title(\"speed_over_ground\")"
   ]
  },
  {
   "cell_type": "markdown",
   "metadata": {},
   "source": [
    "### Longitude column"
   ]
  },
  {
   "cell_type": "code",
   "execution_count": 668,
   "metadata": {},
   "outputs": [
    {
     "name": "stdout",
     "output_type": "stream",
     "text": [
      "{'1': -119.605265, '2': 177.896287, '3': 74.479933, '4': 93.0287, '5': 10.446934, '6': 172.309724, '7': -130.51552, '8': 140.331098, '9': 66.808608, '10': 92.538165}\n"
     ]
    }
   ],
   "source": [
    "longitude_dict = generate_dict_numbers(179,-179, 6) \n",
    "print(longitude_dict)"
   ]
  },
  {
   "cell_type": "code",
   "execution_count": 669,
   "metadata": {},
   "outputs": [
    {
     "data": {
      "text/html": [
       "<div>\n",
       "<style scoped>\n",
       "    .dataframe tbody tr th:only-of-type {\n",
       "        vertical-align: middle;\n",
       "    }\n",
       "\n",
       "    .dataframe tbody tr th {\n",
       "        vertical-align: top;\n",
       "    }\n",
       "\n",
       "    .dataframe thead th {\n",
       "        text-align: right;\n",
       "    }\n",
       "</style>\n",
       "<table border=\"1\" class=\"dataframe\">\n",
       "  <thead>\n",
       "    <tr style=\"text-align: right;\">\n",
       "      <th></th>\n",
       "      <th>Timestamp</th>\n",
       "      <th>speed_over_ground</th>\n",
       "      <th>Longitude</th>\n",
       "    </tr>\n",
       "  </thead>\n",
       "  <tbody>\n",
       "    <tr>\n",
       "      <th>0</th>\n",
       "      <td>1675119600</td>\n",
       "      <td>3.08</td>\n",
       "      <td>-119.605265</td>\n",
       "    </tr>\n",
       "    <tr>\n",
       "      <th>1</th>\n",
       "      <td>1675119601</td>\n",
       "      <td>4.11</td>\n",
       "      <td>NaN</td>\n",
       "    </tr>\n",
       "    <tr>\n",
       "      <th>2</th>\n",
       "      <td>1675119602</td>\n",
       "      <td>4.04</td>\n",
       "      <td>NaN</td>\n",
       "    </tr>\n",
       "    <tr>\n",
       "      <th>3</th>\n",
       "      <td>1675119603</td>\n",
       "      <td>3.50</td>\n",
       "      <td>NaN</td>\n",
       "    </tr>\n",
       "    <tr>\n",
       "      <th>4</th>\n",
       "      <td>1675119604</td>\n",
       "      <td>3.54</td>\n",
       "      <td>NaN</td>\n",
       "    </tr>\n",
       "    <tr>\n",
       "      <th>...</th>\n",
       "      <td>...</td>\n",
       "      <td>...</td>\n",
       "      <td>...</td>\n",
       "    </tr>\n",
       "    <tr>\n",
       "      <th>196</th>\n",
       "      <td>1675119796</td>\n",
       "      <td>17.91</td>\n",
       "      <td>NaN</td>\n",
       "    </tr>\n",
       "    <tr>\n",
       "      <th>197</th>\n",
       "      <td>1675119797</td>\n",
       "      <td>18.54</td>\n",
       "      <td>NaN</td>\n",
       "    </tr>\n",
       "    <tr>\n",
       "      <th>198</th>\n",
       "      <td>1675119798</td>\n",
       "      <td>17.96</td>\n",
       "      <td>NaN</td>\n",
       "    </tr>\n",
       "    <tr>\n",
       "      <th>199</th>\n",
       "      <td>1675119799</td>\n",
       "      <td>18.19</td>\n",
       "      <td>177.896287</td>\n",
       "    </tr>\n",
       "    <tr>\n",
       "      <th>200</th>\n",
       "      <td>1675119800</td>\n",
       "      <td>7.00</td>\n",
       "      <td>74.479933</td>\n",
       "    </tr>\n",
       "  </tbody>\n",
       "</table>\n",
       "<p>201 rows × 3 columns</p>\n",
       "</div>"
      ],
      "text/plain": [
       "      Timestamp  speed_over_ground   Longitude\n",
       "0    1675119600               3.08 -119.605265\n",
       "1    1675119601               4.11         NaN\n",
       "2    1675119602               4.04         NaN\n",
       "3    1675119603               3.50         NaN\n",
       "4    1675119604               3.54         NaN\n",
       "..          ...                ...         ...\n",
       "196  1675119796              17.91         NaN\n",
       "197  1675119797              18.54         NaN\n",
       "198  1675119798              17.96         NaN\n",
       "199  1675119799              18.19  177.896287\n",
       "200  1675119800               7.00   74.479933\n",
       "\n",
       "[201 rows x 3 columns]"
      ]
     },
     "execution_count": 669,
     "metadata": {},
     "output_type": "execute_result"
    }
   ],
   "source": [
    "add_interpolate_points_and_cols(\"Longitude\", longitude_dict)\n",
    "df.loc[:200]"
   ]
  },
  {
   "cell_type": "code",
   "execution_count": 670,
   "metadata": {},
   "outputs": [
    {
     "data": {
      "text/html": [
       "<div>\n",
       "<style scoped>\n",
       "    .dataframe tbody tr th:only-of-type {\n",
       "        vertical-align: middle;\n",
       "    }\n",
       "\n",
       "    .dataframe tbody tr th {\n",
       "        vertical-align: top;\n",
       "    }\n",
       "\n",
       "    .dataframe thead th {\n",
       "        text-align: right;\n",
       "    }\n",
       "</style>\n",
       "<table border=\"1\" class=\"dataframe\">\n",
       "  <thead>\n",
       "    <tr style=\"text-align: right;\">\n",
       "      <th></th>\n",
       "      <th>Timestamp</th>\n",
       "      <th>speed_over_ground</th>\n",
       "      <th>Longitude</th>\n",
       "    </tr>\n",
       "  </thead>\n",
       "  <tbody>\n",
       "    <tr>\n",
       "      <th>0</th>\n",
       "      <td>1675119600</td>\n",
       "      <td>3.08</td>\n",
       "      <td>-119.605263</td>\n",
       "    </tr>\n",
       "    <tr>\n",
       "      <th>1</th>\n",
       "      <td>1675119601</td>\n",
       "      <td>4.11</td>\n",
       "      <td>-118.857776</td>\n",
       "    </tr>\n",
       "    <tr>\n",
       "      <th>2</th>\n",
       "      <td>1675119602</td>\n",
       "      <td>4.04</td>\n",
       "      <td>-118.110278</td>\n",
       "    </tr>\n",
       "    <tr>\n",
       "      <th>3</th>\n",
       "      <td>1675119603</td>\n",
       "      <td>3.50</td>\n",
       "      <td>-117.362786</td>\n",
       "    </tr>\n",
       "    <tr>\n",
       "      <th>4</th>\n",
       "      <td>1675119604</td>\n",
       "      <td>3.54</td>\n",
       "      <td>-116.615295</td>\n",
       "    </tr>\n",
       "    <tr>\n",
       "      <th>...</th>\n",
       "      <td>...</td>\n",
       "      <td>...</td>\n",
       "      <td>...</td>\n",
       "    </tr>\n",
       "    <tr>\n",
       "      <th>196</th>\n",
       "      <td>1675119796</td>\n",
       "      <td>17.91</td>\n",
       "      <td>144.259173</td>\n",
       "    </tr>\n",
       "    <tr>\n",
       "      <th>197</th>\n",
       "      <td>1675119797</td>\n",
       "      <td>18.54</td>\n",
       "      <td>145.754161</td>\n",
       "    </tr>\n",
       "    <tr>\n",
       "      <th>198</th>\n",
       "      <td>1675119798</td>\n",
       "      <td>17.96</td>\n",
       "      <td>147.249144</td>\n",
       "    </tr>\n",
       "    <tr>\n",
       "      <th>199</th>\n",
       "      <td>1675119799</td>\n",
       "      <td>18.19</td>\n",
       "      <td>148.744123</td>\n",
       "    </tr>\n",
       "    <tr>\n",
       "      <th>200</th>\n",
       "      <td>1675119800</td>\n",
       "      <td>7.00</td>\n",
       "      <td>147.616329</td>\n",
       "    </tr>\n",
       "  </tbody>\n",
       "</table>\n",
       "<p>201 rows × 3 columns</p>\n",
       "</div>"
      ],
      "text/plain": [
       "      Timestamp  speed_over_ground   Longitude\n",
       "0    1675119600               3.08 -119.605263\n",
       "1    1675119601               4.11 -118.857776\n",
       "2    1675119602               4.04 -118.110278\n",
       "3    1675119603               3.50 -117.362786\n",
       "4    1675119604               3.54 -116.615295\n",
       "..          ...                ...         ...\n",
       "196  1675119796              17.91  144.259173\n",
       "197  1675119797              18.54  145.754161\n",
       "198  1675119798              17.96  147.249144\n",
       "199  1675119799              18.19  148.744123\n",
       "200  1675119800               7.00  147.616329\n",
       "\n",
       "[201 rows x 3 columns]"
      ]
     },
     "execution_count": 670,
     "metadata": {},
     "output_type": "execute_result"
    }
   ],
   "source": [
    "#random_fluctuations = np.random.uniform(low=-0.5, high=0.5,size=len(df))\n",
    "\n",
    "fluctuations = np.random.uniform(low=-0.000005, high=0.000005,size=len(df))\n",
    "df.Longitude = (df.Longitude.interpolate(method=\"linear\").rolling(window=40, min_periods=1).mean() + fluctuations).round(6)\n",
    "df.loc[:200]"
   ]
  },
  {
   "cell_type": "code",
   "execution_count": 671,
   "metadata": {},
   "outputs": [
    {
     "data": {
      "text/plain": [
       "Text(0.5, 1.0, 'Longitude')"
      ]
     },
     "execution_count": 671,
     "metadata": {},
     "output_type": "execute_result"
    },
    {
     "data": {
      "image/png": "[encoded data removed]",
      "text/plain": [
       "<Figure size 640x480 with 1 Axes>"
      ]
     },
     "metadata": {},
     "output_type": "display_data"
    }
   ],
   "source": [
    "plt.plot(df[\"Longitude\"])\n",
    "plt.title(\"Longitude\")"
   ]
  },
  {
   "cell_type": "markdown",
   "metadata": {},
   "source": [
    "### Latitude"
   ]
  },
  {
   "cell_type": "code",
   "execution_count": 672,
   "metadata": {},
   "outputs": [
    {
     "name": "stdout",
     "output_type": "stream",
     "text": [
      "{'1': 35.16224, '2': 61.626643, '3': 32.013462, '4': 41.564186, '5': -29.372992, '6': 49.776233, '7': 7.602284, '8': 78.261235, '9': -48.601188, '10': 65.339897}\n"
     ]
    }
   ],
   "source": [
    "latitude_dict = generate_dict_numbers(79,-79, 6)\n",
    "print(latitude_dict)"
   ]
  },
  {
   "cell_type": "code",
   "execution_count": 673,
   "metadata": {},
   "outputs": [
    {
     "data": {
      "text/html": [
       "<div>\n",
       "<style scoped>\n",
       "    .dataframe tbody tr th:only-of-type {\n",
       "        vertical-align: middle;\n",
       "    }\n",
       "\n",
       "    .dataframe tbody tr th {\n",
       "        vertical-align: top;\n",
       "    }\n",
       "\n",
       "    .dataframe thead th {\n",
       "        text-align: right;\n",
       "    }\n",
       "</style>\n",
       "<table border=\"1\" class=\"dataframe\">\n",
       "  <thead>\n",
       "    <tr style=\"text-align: right;\">\n",
       "      <th></th>\n",
       "      <th>Timestamp</th>\n",
       "      <th>speed_over_ground</th>\n",
       "      <th>Longitude</th>\n",
       "      <th>Latitude</th>\n",
       "    </tr>\n",
       "  </thead>\n",
       "  <tbody>\n",
       "    <tr>\n",
       "      <th>0</th>\n",
       "      <td>1675119600</td>\n",
       "      <td>3.08</td>\n",
       "      <td>-119.605263</td>\n",
       "      <td>35.16224</td>\n",
       "    </tr>\n",
       "    <tr>\n",
       "      <th>1</th>\n",
       "      <td>1675119601</td>\n",
       "      <td>4.11</td>\n",
       "      <td>-118.857776</td>\n",
       "      <td>NaN</td>\n",
       "    </tr>\n",
       "    <tr>\n",
       "      <th>2</th>\n",
       "      <td>1675119602</td>\n",
       "      <td>4.04</td>\n",
       "      <td>-118.110278</td>\n",
       "      <td>NaN</td>\n",
       "    </tr>\n",
       "    <tr>\n",
       "      <th>3</th>\n",
       "      <td>1675119603</td>\n",
       "      <td>3.50</td>\n",
       "      <td>-117.362786</td>\n",
       "      <td>NaN</td>\n",
       "    </tr>\n",
       "    <tr>\n",
       "      <th>4</th>\n",
       "      <td>1675119604</td>\n",
       "      <td>3.54</td>\n",
       "      <td>-116.615295</td>\n",
       "      <td>NaN</td>\n",
       "    </tr>\n",
       "  </tbody>\n",
       "</table>\n",
       "</div>"
      ],
      "text/plain": [
       "    Timestamp  speed_over_ground   Longitude  Latitude\n",
       "0  1675119600               3.08 -119.605263  35.16224\n",
       "1  1675119601               4.11 -118.857776       NaN\n",
       "2  1675119602               4.04 -118.110278       NaN\n",
       "3  1675119603               3.50 -117.362786       NaN\n",
       "4  1675119604               3.54 -116.615295       NaN"
      ]
     },
     "execution_count": 673,
     "metadata": {},
     "output_type": "execute_result"
    }
   ],
   "source": [
    "add_interpolate_points_and_cols(\"Latitude\", latitude_dict)\n",
    "df.head()"
   ]
  },
  {
   "cell_type": "code",
   "execution_count": 674,
   "metadata": {},
   "outputs": [
    {
     "data": {
      "text/html": [
       "<div>\n",
       "<style scoped>\n",
       "    .dataframe tbody tr th:only-of-type {\n",
       "        vertical-align: middle;\n",
       "    }\n",
       "\n",
       "    .dataframe tbody tr th {\n",
       "        vertical-align: top;\n",
       "    }\n",
       "\n",
       "    .dataframe thead th {\n",
       "        text-align: right;\n",
       "    }\n",
       "</style>\n",
       "<table border=\"1\" class=\"dataframe\">\n",
       "  <thead>\n",
       "    <tr style=\"text-align: right;\">\n",
       "      <th></th>\n",
       "      <th>Timestamp</th>\n",
       "      <th>speed_over_ground</th>\n",
       "      <th>Longitude</th>\n",
       "      <th>Latitude</th>\n",
       "    </tr>\n",
       "  </thead>\n",
       "  <tbody>\n",
       "    <tr>\n",
       "      <th>0</th>\n",
       "      <td>1675119600</td>\n",
       "      <td>3.08</td>\n",
       "      <td>-119.605263</td>\n",
       "      <td>35.162237</td>\n",
       "    </tr>\n",
       "    <tr>\n",
       "      <th>1</th>\n",
       "      <td>1675119601</td>\n",
       "      <td>4.11</td>\n",
       "      <td>-118.857776</td>\n",
       "      <td>35.228734</td>\n",
       "    </tr>\n",
       "    <tr>\n",
       "      <th>2</th>\n",
       "      <td>1675119602</td>\n",
       "      <td>4.04</td>\n",
       "      <td>-118.110278</td>\n",
       "      <td>35.295227</td>\n",
       "    </tr>\n",
       "    <tr>\n",
       "      <th>3</th>\n",
       "      <td>1675119603</td>\n",
       "      <td>3.50</td>\n",
       "      <td>-117.362786</td>\n",
       "      <td>35.361725</td>\n",
       "    </tr>\n",
       "    <tr>\n",
       "      <th>4</th>\n",
       "      <td>1675119604</td>\n",
       "      <td>3.54</td>\n",
       "      <td>-116.615295</td>\n",
       "      <td>35.428215</td>\n",
       "    </tr>\n",
       "    <tr>\n",
       "      <th>...</th>\n",
       "      <td>...</td>\n",
       "      <td>...</td>\n",
       "      <td>...</td>\n",
       "      <td>...</td>\n",
       "    </tr>\n",
       "    <tr>\n",
       "      <th>196</th>\n",
       "      <td>1675119796</td>\n",
       "      <td>17.91</td>\n",
       "      <td>144.259173</td>\n",
       "      <td>58.634435</td>\n",
       "    </tr>\n",
       "    <tr>\n",
       "      <th>197</th>\n",
       "      <td>1675119797</td>\n",
       "      <td>18.54</td>\n",
       "      <td>145.754161</td>\n",
       "      <td>58.767425</td>\n",
       "    </tr>\n",
       "    <tr>\n",
       "      <th>198</th>\n",
       "      <td>1675119798</td>\n",
       "      <td>17.96</td>\n",
       "      <td>147.249144</td>\n",
       "      <td>58.900409</td>\n",
       "    </tr>\n",
       "    <tr>\n",
       "      <th>199</th>\n",
       "      <td>1675119799</td>\n",
       "      <td>18.19</td>\n",
       "      <td>148.744123</td>\n",
       "      <td>59.033395</td>\n",
       "    </tr>\n",
       "    <tr>\n",
       "      <th>200</th>\n",
       "      <td>1675119800</td>\n",
       "      <td>7.00</td>\n",
       "      <td>147.616329</td>\n",
       "      <td>58.422733</td>\n",
       "    </tr>\n",
       "  </tbody>\n",
       "</table>\n",
       "<p>201 rows × 4 columns</p>\n",
       "</div>"
      ],
      "text/plain": [
       "      Timestamp  speed_over_ground   Longitude   Latitude\n",
       "0    1675119600               3.08 -119.605263  35.162237\n",
       "1    1675119601               4.11 -118.857776  35.228734\n",
       "2    1675119602               4.04 -118.110278  35.295227\n",
       "3    1675119603               3.50 -117.362786  35.361725\n",
       "4    1675119604               3.54 -116.615295  35.428215\n",
       "..          ...                ...         ...        ...\n",
       "196  1675119796              17.91  144.259173  58.634435\n",
       "197  1675119797              18.54  145.754161  58.767425\n",
       "198  1675119798              17.96  147.249144  58.900409\n",
       "199  1675119799              18.19  148.744123  59.033395\n",
       "200  1675119800               7.00  147.616329  58.422733\n",
       "\n",
       "[201 rows x 4 columns]"
      ]
     },
     "execution_count": 674,
     "metadata": {},
     "output_type": "execute_result"
    }
   ],
   "source": [
    "fluctuations = np.random.uniform(low=-0.000005, high=0.000005,size=len(df))\n",
    "df.Latitude = (df.Latitude.interpolate(method=\"linear\").rolling(window=40, min_periods=1).mean() + fluctuations).round(6)\n",
    "df.loc[:200]"
   ]
  },
  {
   "cell_type": "code",
   "execution_count": 675,
   "metadata": {},
   "outputs": [
    {
     "data": {
      "text/plain": [
       "Text(0.5, 1.0, 'Latitude')"
      ]
     },
     "execution_count": 675,
     "metadata": {},
     "output_type": "execute_result"
    },
    {
     "data": {
      "image/png": "[encoded data removed]",
      "text/plain": [
       "<Figure size 640x480 with 1 Axes>"
      ]
     },
     "metadata": {},
     "output_type": "display_data"
    }
   ],
   "source": [
    "plt.plot(df[\"Latitude\"])\n",
    "plt.title(\"Latitude\")"
   ]
  },
  {
   "cell_type": "markdown",
   "metadata": {},
   "source": [
    "### Engine fuel rate"
   ]
  },
  {
   "cell_type": "code",
   "execution_count": 676,
   "metadata": {},
   "outputs": [],
   "source": [
    "''' This column is based on the speed_over_ground\n",
    " I have multiplied by 5. If the max value the speed can be 20 and the max fuel rate is 100 a multiple of 5 works perfectly'''\n",
    "\n",
    "df[\"engine_fuel_rate\"] = np.clip(df[\"speed_over_ground\"]* 5, 0, 100)+ random_fluctuations\n",
    "\n",
    "df[\"engine_fuel_rate\"] = df[\"engine_fuel_rate\"].round(2)\n",
    "\n"
   ]
  },
  {
   "cell_type": "code",
   "execution_count": 677,
   "metadata": {},
   "outputs": [
    {
     "data": {
      "text/html": [
       "<div>\n",
       "<style scoped>\n",
       "    .dataframe tbody tr th:only-of-type {\n",
       "        vertical-align: middle;\n",
       "    }\n",
       "\n",
       "    .dataframe tbody tr th {\n",
       "        vertical-align: top;\n",
       "    }\n",
       "\n",
       "    .dataframe thead th {\n",
       "        text-align: right;\n",
       "    }\n",
       "</style>\n",
       "<table border=\"1\" class=\"dataframe\">\n",
       "  <thead>\n",
       "    <tr style=\"text-align: right;\">\n",
       "      <th></th>\n",
       "      <th>Timestamp</th>\n",
       "      <th>speed_over_ground</th>\n",
       "      <th>Longitude</th>\n",
       "      <th>Latitude</th>\n",
       "      <th>engine_fuel_rate</th>\n",
       "    </tr>\n",
       "  </thead>\n",
       "  <tbody>\n",
       "    <tr>\n",
       "      <th>0</th>\n",
       "      <td>1675119600</td>\n",
       "      <td>3.08</td>\n",
       "      <td>-119.605263</td>\n",
       "      <td>35.162237</td>\n",
       "      <td>14.92</td>\n",
       "    </tr>\n",
       "    <tr>\n",
       "      <th>1</th>\n",
       "      <td>1675119601</td>\n",
       "      <td>4.11</td>\n",
       "      <td>-118.857776</td>\n",
       "      <td>35.228734</td>\n",
       "      <td>21.02</td>\n",
       "    </tr>\n",
       "    <tr>\n",
       "      <th>2</th>\n",
       "      <td>1675119602</td>\n",
       "      <td>4.04</td>\n",
       "      <td>-118.110278</td>\n",
       "      <td>35.295227</td>\n",
       "      <td>20.53</td>\n",
       "    </tr>\n",
       "    <tr>\n",
       "      <th>3</th>\n",
       "      <td>1675119603</td>\n",
       "      <td>3.50</td>\n",
       "      <td>-117.362786</td>\n",
       "      <td>35.361725</td>\n",
       "      <td>17.21</td>\n",
       "    </tr>\n",
       "    <tr>\n",
       "      <th>4</th>\n",
       "      <td>1675119604</td>\n",
       "      <td>3.54</td>\n",
       "      <td>-116.615295</td>\n",
       "      <td>35.428215</td>\n",
       "      <td>17.38</td>\n",
       "    </tr>\n",
       "  </tbody>\n",
       "</table>\n",
       "</div>"
      ],
      "text/plain": [
       "    Timestamp  speed_over_ground   Longitude   Latitude  engine_fuel_rate\n",
       "0  1675119600               3.08 -119.605263  35.162237             14.92\n",
       "1  1675119601               4.11 -118.857776  35.228734             21.02\n",
       "2  1675119602               4.04 -118.110278  35.295227             20.53\n",
       "3  1675119603               3.50 -117.362786  35.361725             17.21\n",
       "4  1675119604               3.54 -116.615295  35.428215             17.38"
      ]
     },
     "execution_count": 677,
     "metadata": {},
     "output_type": "execute_result"
    }
   ],
   "source": [
    "df.head()"
   ]
  },
  {
   "cell_type": "code",
   "execution_count": 678,
   "metadata": {},
   "outputs": [
    {
     "data": {
      "text/plain": [
       "Text(0.5, 1.0, 'Fuel rate')"
      ]
     },
     "execution_count": 678,
     "metadata": {},
     "output_type": "execute_result"
    },
    {
     "data": {
      "image/png": "[encoded data removed]",
      "text/plain": [
       "<Figure size 640x480 with 1 Axes>"
      ]
     },
     "metadata": {},
     "output_type": "display_data"
    }
   ],
   "source": [
    "plt.plot(df[\"engine_fuel_rate\"])\n",
    "plt.title(\"Fuel rate\")"
   ]
  },
  {
   "cell_type": "code",
   "execution_count": 679,
   "metadata": {},
   "outputs": [
    {
     "name": "stdout",
     "output_type": "stream",
     "text": [
      "<class 'pandas.core.frame.DataFrame'>\n",
      "RangeIndex: 1000 entries, 0 to 999\n",
      "Data columns (total 5 columns):\n",
      " #   Column             Non-Null Count  Dtype  \n",
      "---  ------             --------------  -----  \n",
      " 0   Timestamp          1000 non-null   int64  \n",
      " 1   speed_over_ground  1000 non-null   float64\n",
      " 2   Longitude          1000 non-null   float64\n",
      " 3   Latitude           1000 non-null   float64\n",
      " 4   engine_fuel_rate   1000 non-null   float64\n",
      "dtypes: float64(4), int64(1)\n",
      "memory usage: 39.2 KB\n"
     ]
    }
   ],
   "source": [
    "df.info()"
   ]
  },
  {
   "cell_type": "markdown",
   "metadata": {},
   "source": [
    "The next stage after creating this data frame is to add some bad data. This can be done in a few ways. I should have values that are not applicable in certain ranges within the selected column. Also I will add nan values within in each colum so my next program can handle them. Below are some examples on what I will apply on each column.\n",
    "\n",
    "- Time stamp:   \n",
    "    - remove one or more number so there is less then 10 digits\n",
    "    - add nan value\n",
    "    - add 0 value\n",
    "    - add string value\n",
    "\n",
    "- speed_over_ground \n",
    "    - add string value\n",
    "    - add minus value\n",
    "    - add positive number over 20\n",
    "    - add nan value\n",
    "\n",
    "\n",
    "- Longitude and Latitude \n",
    "    - add minus values beyond the range of - 90 and -180\n",
    "    - add positive values over 90 and 180\n",
    "    - add string value\n",
    "    - add nan value\n",
    "  \n",
    "\n",
    "- engine_fuel_rate \n",
    "    - add string value\n",
    "    - add minus values \n",
    "    - add value over range of 100\n",
    "    - add nan value\n"
   ]
  },
  {
   "cell_type": "code",
   "execution_count": 680,
   "metadata": {},
   "outputs": [],
   "source": [
    "def random_replace(df, column_name, condition, lower=None, upper=None, text=None, replace=None, round=None):\n",
    "    \"\"\" Replace random cells in a DataFrame based on specified conditions.\n",
    "    \n",
    "    Parameters: \n",
    "    - df: pandas Dataframe\n",
    "    - column_name: str, the column the replacement will occur¨\n",
    "    - condition: str, which condition (\"nan\", \"number\", \"text\")\n",
    "    - lower: numeric, lowest number for replacement(required for \"low\" and \"high\" condition)\n",
    "    - upper: numeric, highest number for replacement (required for \"low\" and \"high\" condition)\n",
    "    - word: numeric or string, the value to use for replacement (required for \"text\" condition)\n",
    "    - replace: int, number of random replacements to perform\n",
    "    - round: int, number of decimal places for the condition  (required for \"lower\" and \"upper\")\n",
    "\n",
    "    Returns:\n",
    "    - df: Pandas DataFrame with replaced values\n",
    "\n",
    "    \"\"\"\n",
    "\n",
    "    random_rows = np.random.choice(df.index, size= replace, replace=False )\n",
    "\n",
    "    if condition == \"nan\":\n",
    "        df.loc[random_rows, column_name] = np.nan\n",
    "    elif condition == \"number\":\n",
    "        high_values = np.random.uniform(lower, upper, len(random_rows)).round(round)\n",
    "        df.loc[random_rows, column_name] = high_values\n",
    "    elif condition == \"text\":\n",
    "        df.loc[random_rows,column_name] = text\n",
    "    else:\n",
    "        print(\"Invalid condition. Use 'nan', 'number', or 'text'\")\n",
    "\n",
    "    return df\n",
    "\n"
   ]
  },
  {
   "cell_type": "code",
   "execution_count": 681,
   "metadata": {},
   "outputs": [],
   "source": [
    "test_df = pd.DataFrame(\n",
    "    {\"1\": [1675119600, 1675119601,1675119602,1675119603,1675119604],\n",
    "     \"2\" : [1.56,2.45,3.78,4.56,10],\n",
    "     \"3\": [-119.605263, 110.605263,-109.605263,119.605263,-119.608263],\n",
    "     \"4\" : [35.162237,-35.162237,35.162237,-40.162237,35.166237],\n",
    "     \"5\" : [14.92,55.92,67.92,14.92,99.92]\n",
    "     }\n",
    ")"
   ]
  },
  {
   "cell_type": "code",
   "execution_count": 682,
   "metadata": {},
   "outputs": [
    {
     "data": {
      "text/html": [
       "<div>\n",
       "<style scoped>\n",
       "    .dataframe tbody tr th:only-of-type {\n",
       "        vertical-align: middle;\n",
       "    }\n",
       "\n",
       "    .dataframe tbody tr th {\n",
       "        vertical-align: top;\n",
       "    }\n",
       "\n",
       "    .dataframe thead th {\n",
       "        text-align: right;\n",
       "    }\n",
       "</style>\n",
       "<table border=\"1\" class=\"dataframe\">\n",
       "  <thead>\n",
       "    <tr style=\"text-align: right;\">\n",
       "      <th></th>\n",
       "      <th>1</th>\n",
       "      <th>2</th>\n",
       "      <th>3</th>\n",
       "      <th>4</th>\n",
       "      <th>5</th>\n",
       "    </tr>\n",
       "  </thead>\n",
       "  <tbody>\n",
       "    <tr>\n",
       "      <th>0</th>\n",
       "      <td>1675119600</td>\n",
       "      <td>1.56</td>\n",
       "      <td>-119.605263</td>\n",
       "      <td>35.162237</td>\n",
       "      <td>14.92</td>\n",
       "    </tr>\n",
       "    <tr>\n",
       "      <th>1</th>\n",
       "      <td>1675119601</td>\n",
       "      <td>2.45</td>\n",
       "      <td>110.605263</td>\n",
       "      <td>-35.162237</td>\n",
       "      <td>55.92</td>\n",
       "    </tr>\n",
       "    <tr>\n",
       "      <th>2</th>\n",
       "      <td>1675119602</td>\n",
       "      <td>3.78</td>\n",
       "      <td>-109.605263</td>\n",
       "      <td>35.162237</td>\n",
       "      <td>67.92</td>\n",
       "    </tr>\n",
       "    <tr>\n",
       "      <th>3</th>\n",
       "      <td>1675119603</td>\n",
       "      <td>4.56</td>\n",
       "      <td>119.605263</td>\n",
       "      <td>-40.162237</td>\n",
       "      <td>14.92</td>\n",
       "    </tr>\n",
       "    <tr>\n",
       "      <th>4</th>\n",
       "      <td>1675119604</td>\n",
       "      <td>10.00</td>\n",
       "      <td>-119.608263</td>\n",
       "      <td>35.166237</td>\n",
       "      <td>99.92</td>\n",
       "    </tr>\n",
       "  </tbody>\n",
       "</table>\n",
       "</div>"
      ],
      "text/plain": [
       "            1      2           3          4      5\n",
       "0  1675119600   1.56 -119.605263  35.162237  14.92\n",
       "1  1675119601   2.45  110.605263 -35.162237  55.92\n",
       "2  1675119602   3.78 -109.605263  35.162237  67.92\n",
       "3  1675119603   4.56  119.605263 -40.162237  14.92\n",
       "4  1675119604  10.00 -119.608263  35.166237  99.92"
      ]
     },
     "execution_count": 682,
     "metadata": {},
     "output_type": "execute_result"
    }
   ],
   "source": [
    "test_df.head()"
   ]
  },
  {
   "cell_type": "code",
   "execution_count": 683,
   "metadata": {},
   "outputs": [],
   "source": [
    "test_df = random_replace(test_df,\"5\", \"number\", lower=0, upper=-13, replace=2,round=2)"
   ]
  },
  {
   "cell_type": "code",
   "execution_count": 684,
   "metadata": {},
   "outputs": [
    {
     "data": {
      "text/html": [
       "<div>\n",
       "<style scoped>\n",
       "    .dataframe tbody tr th:only-of-type {\n",
       "        vertical-align: middle;\n",
       "    }\n",
       "\n",
       "    .dataframe tbody tr th {\n",
       "        vertical-align: top;\n",
       "    }\n",
       "\n",
       "    .dataframe thead th {\n",
       "        text-align: right;\n",
       "    }\n",
       "</style>\n",
       "<table border=\"1\" class=\"dataframe\">\n",
       "  <thead>\n",
       "    <tr style=\"text-align: right;\">\n",
       "      <th></th>\n",
       "      <th>1</th>\n",
       "      <th>2</th>\n",
       "      <th>3</th>\n",
       "      <th>4</th>\n",
       "      <th>5</th>\n",
       "    </tr>\n",
       "  </thead>\n",
       "  <tbody>\n",
       "    <tr>\n",
       "      <th>0</th>\n",
       "      <td>1675119600</td>\n",
       "      <td>1.56</td>\n",
       "      <td>-119.605263</td>\n",
       "      <td>35.162237</td>\n",
       "      <td>-3.61</td>\n",
       "    </tr>\n",
       "    <tr>\n",
       "      <th>1</th>\n",
       "      <td>1675119601</td>\n",
       "      <td>2.45</td>\n",
       "      <td>110.605263</td>\n",
       "      <td>-35.162237</td>\n",
       "      <td>55.92</td>\n",
       "    </tr>\n",
       "    <tr>\n",
       "      <th>2</th>\n",
       "      <td>1675119602</td>\n",
       "      <td>3.78</td>\n",
       "      <td>-109.605263</td>\n",
       "      <td>35.162237</td>\n",
       "      <td>67.92</td>\n",
       "    </tr>\n",
       "    <tr>\n",
       "      <th>3</th>\n",
       "      <td>1675119603</td>\n",
       "      <td>4.56</td>\n",
       "      <td>119.605263</td>\n",
       "      <td>-40.162237</td>\n",
       "      <td>14.92</td>\n",
       "    </tr>\n",
       "    <tr>\n",
       "      <th>4</th>\n",
       "      <td>1675119604</td>\n",
       "      <td>10.00</td>\n",
       "      <td>-119.608263</td>\n",
       "      <td>35.166237</td>\n",
       "      <td>-1.32</td>\n",
       "    </tr>\n",
       "  </tbody>\n",
       "</table>\n",
       "</div>"
      ],
      "text/plain": [
       "            1      2           3          4      5\n",
       "0  1675119600   1.56 -119.605263  35.162237  -3.61\n",
       "1  1675119601   2.45  110.605263 -35.162237  55.92\n",
       "2  1675119602   3.78 -109.605263  35.162237  67.92\n",
       "3  1675119603   4.56  119.605263 -40.162237  14.92\n",
       "4  1675119604  10.00 -119.608263  35.166237  -1.32"
      ]
     },
     "execution_count": 684,
     "metadata": {},
     "output_type": "execute_result"
    }
   ],
   "source": [
    "test_df"
   ]
  },
  {
   "cell_type": "code",
   "execution_count": 685,
   "metadata": {},
   "outputs": [
    {
     "name": "stderr",
     "output_type": "stream",
     "text": [
      "/tmp/ipykernel_1161/1631826296.py:27: FutureWarning: Setting an item of incompatible dtype is deprecated and will raise an error in a future version of pandas. Value 'bye' has dtype incompatible with float64, please explicitly cast to a compatible dtype first.\n",
      "  df.loc[random_rows,column_name] = text\n"
     ]
    }
   ],
   "source": [
    "test_df = random_replace(test_df,\"4\",\"text\",text=\"bye\",replace=2)\n",
    "test_df = random_replace(test_df,\"3\",\"nan\", replace = 4)\n"
   ]
  },
  {
   "cell_type": "code",
   "execution_count": 686,
   "metadata": {},
   "outputs": [
    {
     "data": {
      "text/html": [
       "<div>\n",
       "<style scoped>\n",
       "    .dataframe tbody tr th:only-of-type {\n",
       "        vertical-align: middle;\n",
       "    }\n",
       "\n",
       "    .dataframe tbody tr th {\n",
       "        vertical-align: top;\n",
       "    }\n",
       "\n",
       "    .dataframe thead th {\n",
       "        text-align: right;\n",
       "    }\n",
       "</style>\n",
       "<table border=\"1\" class=\"dataframe\">\n",
       "  <thead>\n",
       "    <tr style=\"text-align: right;\">\n",
       "      <th></th>\n",
       "      <th>1</th>\n",
       "      <th>2</th>\n",
       "      <th>3</th>\n",
       "      <th>4</th>\n",
       "      <th>5</th>\n",
       "    </tr>\n",
       "  </thead>\n",
       "  <tbody>\n",
       "    <tr>\n",
       "      <th>0</th>\n",
       "      <td>1675119600</td>\n",
       "      <td>1.56</td>\n",
       "      <td>-119.605263</td>\n",
       "      <td>bye</td>\n",
       "      <td>-3.61</td>\n",
       "    </tr>\n",
       "    <tr>\n",
       "      <th>1</th>\n",
       "      <td>1675119601</td>\n",
       "      <td>2.45</td>\n",
       "      <td>NaN</td>\n",
       "      <td>-35.162237</td>\n",
       "      <td>55.92</td>\n",
       "    </tr>\n",
       "    <tr>\n",
       "      <th>2</th>\n",
       "      <td>1675119602</td>\n",
       "      <td>3.78</td>\n",
       "      <td>NaN</td>\n",
       "      <td>35.162237</td>\n",
       "      <td>67.92</td>\n",
       "    </tr>\n",
       "    <tr>\n",
       "      <th>3</th>\n",
       "      <td>1675119603</td>\n",
       "      <td>4.56</td>\n",
       "      <td>NaN</td>\n",
       "      <td>bye</td>\n",
       "      <td>14.92</td>\n",
       "    </tr>\n",
       "    <tr>\n",
       "      <th>4</th>\n",
       "      <td>1675119604</td>\n",
       "      <td>10.00</td>\n",
       "      <td>NaN</td>\n",
       "      <td>35.166237</td>\n",
       "      <td>-1.32</td>\n",
       "    </tr>\n",
       "  </tbody>\n",
       "</table>\n",
       "</div>"
      ],
      "text/plain": [
       "            1      2           3          4      5\n",
       "0  1675119600   1.56 -119.605263        bye  -3.61\n",
       "1  1675119601   2.45         NaN -35.162237  55.92\n",
       "2  1675119602   3.78         NaN  35.162237  67.92\n",
       "3  1675119603   4.56         NaN        bye  14.92\n",
       "4  1675119604  10.00         NaN  35.166237  -1.32"
      ]
     },
     "execution_count": 686,
     "metadata": {},
     "output_type": "execute_result"
    }
   ],
   "source": [
    "test_df.head()"
   ]
  },
  {
   "cell_type": "markdown",
   "metadata": {},
   "source": [
    "# Applying bad data"
   ]
  },
  {
   "cell_type": "markdown",
   "metadata": {},
   "source": [
    "### Timestamp column"
   ]
  },
  {
   "cell_type": "code",
   "execution_count": 687,
   "metadata": {},
   "outputs": [],
   "source": [
    "''' The function is working well so now I will apply it to the real dataset.\n",
    "I will fix the float values first as when adding strings does not allow for a numerical search for the changes I have made.\n",
    "Also adding nans makes it harder to search to see if my numerical changes were successful '''\n",
    "\n",
    "# Timestamp column\n",
    "bad_df = random_replace(df,\"Timestamp\",\"number\", lower=0, upper=999999999, replace=5,round=0) # creating a smaller number\n"
   ]
  },
  {
   "cell_type": "code",
   "execution_count": 688,
   "metadata": {},
   "outputs": [
    {
     "name": "stdout",
     "output_type": "stream",
     "text": [
      "<class 'pandas.core.frame.DataFrame'>\n",
      "RangeIndex: 1000 entries, 0 to 999\n",
      "Data columns (total 5 columns):\n",
      " #   Column             Non-Null Count  Dtype  \n",
      "---  ------             --------------  -----  \n",
      " 0   Timestamp          1000 non-null   int64  \n",
      " 1   speed_over_ground  1000 non-null   float64\n",
      " 2   Longitude          1000 non-null   float64\n",
      " 3   Latitude           1000 non-null   float64\n",
      " 4   engine_fuel_rate   1000 non-null   float64\n",
      "dtypes: float64(4), int64(1)\n",
      "memory usage: 39.2 KB\n"
     ]
    }
   ],
   "source": [
    "bad_df.info()"
   ]
  },
  {
   "cell_type": "code",
   "execution_count": 689,
   "metadata": {},
   "outputs": [
    {
     "data": {
      "text/html": [
       "<div>\n",
       "<style scoped>\n",
       "    .dataframe tbody tr th:only-of-type {\n",
       "        vertical-align: middle;\n",
       "    }\n",
       "\n",
       "    .dataframe tbody tr th {\n",
       "        vertical-align: top;\n",
       "    }\n",
       "\n",
       "    .dataframe thead th {\n",
       "        text-align: right;\n",
       "    }\n",
       "</style>\n",
       "<table border=\"1\" class=\"dataframe\">\n",
       "  <thead>\n",
       "    <tr style=\"text-align: right;\">\n",
       "      <th></th>\n",
       "      <th>Timestamp</th>\n",
       "      <th>speed_over_ground</th>\n",
       "      <th>Longitude</th>\n",
       "      <th>Latitude</th>\n",
       "      <th>engine_fuel_rate</th>\n",
       "    </tr>\n",
       "  </thead>\n",
       "  <tbody>\n",
       "    <tr>\n",
       "      <th>179</th>\n",
       "      <td>717120568</td>\n",
       "      <td>16.77</td>\n",
       "      <td>118.844468</td>\n",
       "      <td>56.373663</td>\n",
       "      <td>83.59</td>\n",
       "    </tr>\n",
       "    <tr>\n",
       "      <th>409</th>\n",
       "      <td>249458204</td>\n",
       "      <td>2.16</td>\n",
       "      <td>72.284658</td>\n",
       "      <td>23.755409</td>\n",
       "      <td>11.05</td>\n",
       "    </tr>\n",
       "    <tr>\n",
       "      <th>487</th>\n",
       "      <td>462391176</td>\n",
       "      <td>5.21</td>\n",
       "      <td>65.350142</td>\n",
       "      <td>-2.525893</td>\n",
       "      <td>25.63</td>\n",
       "    </tr>\n",
       "    <tr>\n",
       "      <th>590</th>\n",
       "      <td>856132498</td>\n",
       "      <td>10.22</td>\n",
       "      <td>149.128373</td>\n",
       "      <td>38.440794</td>\n",
       "      <td>50.77</td>\n",
       "    </tr>\n",
       "    <tr>\n",
       "      <th>955</th>\n",
       "      <td>864962604</td>\n",
       "      <td>13.76</td>\n",
       "      <td>84.327984</td>\n",
       "      <td>28.981817</td>\n",
       "      <td>68.66</td>\n",
       "    </tr>\n",
       "  </tbody>\n",
       "</table>\n",
       "</div>"
      ],
      "text/plain": [
       "     Timestamp  speed_over_ground   Longitude   Latitude  engine_fuel_rate\n",
       "179  717120568              16.77  118.844468  56.373663             83.59\n",
       "409  249458204               2.16   72.284658  23.755409             11.05\n",
       "487  462391176               5.21   65.350142  -2.525893             25.63\n",
       "590  856132498              10.22  149.128373  38.440794             50.77\n",
       "955  864962604              13.76   84.327984  28.981817             68.66"
      ]
     },
     "execution_count": 689,
     "metadata": {},
     "output_type": "execute_result"
    }
   ],
   "source": [
    "# Adding numbers less than the actual timestamp length\n",
    "bad_df.loc[(bad_df[\"Timestamp\"] < 1000000000)]"
   ]
  },
  {
   "cell_type": "code",
   "execution_count": 690,
   "metadata": {},
   "outputs": [
    {
     "name": "stderr",
     "output_type": "stream",
     "text": [
      "/tmp/ipykernel_1161/1631826296.py:27: FutureWarning: Setting an item of incompatible dtype is deprecated and will raise an error in a future version of pandas. Value 'ERROR' has dtype incompatible with int64, please explicitly cast to a compatible dtype first.\n",
      "  df.loc[random_rows,column_name] = text\n"
     ]
    }
   ],
   "source": [
    "bad_df = random_replace(bad_df,\"Timestamp\", \"text\",text=\"ERROR\", replace= 5) # adding strings into numerical type column\n",
    "bad_df = random_replace(bad_df,\"Timestamp\", \"nan\", replace=10) # adding nan values"
   ]
  },
  {
   "cell_type": "code",
   "execution_count": 691,
   "metadata": {},
   "outputs": [
    {
     "name": "stdout",
     "output_type": "stream",
     "text": [
      "Number of Cells with 'ERROR': 5\n",
      "\n",
      "\n",
      "<class 'pandas.core.frame.DataFrame'>\n",
      "RangeIndex: 1000 entries, 0 to 999\n",
      "Data columns (total 5 columns):\n",
      " #   Column             Non-Null Count  Dtype  \n",
      "---  ------             --------------  -----  \n",
      " 0   Timestamp          990 non-null    object \n",
      " 1   speed_over_ground  1000 non-null   float64\n",
      " 2   Longitude          1000 non-null   float64\n",
      " 3   Latitude           1000 non-null   float64\n",
      " 4   engine_fuel_rate   1000 non-null   float64\n",
      "dtypes: float64(4), object(1)\n",
      "memory usage: 39.2+ KB\n"
     ]
    }
   ],
   "source": [
    "# You can see now that the Timestamp has Dtype of object. due to the fact that I have added nan and string values\n",
    "print(f\"Number of Cells with 'ERROR': {(bad_df['Timestamp'] == 'ERROR').sum()}\")\n",
    "print(\"\\n\")\n",
    "bad_df.info()"
   ]
  },
  {
   "cell_type": "markdown",
   "metadata": {},
   "source": [
    "### speed over ground"
   ]
  },
  {
   "cell_type": "code",
   "execution_count": 692,
   "metadata": {},
   "outputs": [],
   "source": [
    "# adding numbers over the max\n",
    "bad_df = random_replace(bad_df,\"speed_over_ground\",\"number\", lower=20, upper=100, replace=5,round=2)\n",
    "# adding numbers in minus values\n",
    "bad_df = random_replace(bad_df,\"speed_over_ground\",\"number\", lower=-1, upper=-100, replace=5, round=2)"
   ]
  },
  {
   "cell_type": "code",
   "execution_count": 693,
   "metadata": {},
   "outputs": [
    {
     "data": {
      "text/html": [
       "<div>\n",
       "<style scoped>\n",
       "    .dataframe tbody tr th:only-of-type {\n",
       "        vertical-align: middle;\n",
       "    }\n",
       "\n",
       "    .dataframe tbody tr th {\n",
       "        vertical-align: top;\n",
       "    }\n",
       "\n",
       "    .dataframe thead th {\n",
       "        text-align: right;\n",
       "    }\n",
       "</style>\n",
       "<table border=\"1\" class=\"dataframe\">\n",
       "  <thead>\n",
       "    <tr style=\"text-align: right;\">\n",
       "      <th></th>\n",
       "      <th>Timestamp</th>\n",
       "      <th>speed_over_ground</th>\n",
       "      <th>Longitude</th>\n",
       "      <th>Latitude</th>\n",
       "      <th>engine_fuel_rate</th>\n",
       "    </tr>\n",
       "  </thead>\n",
       "  <tbody>\n",
       "    <tr>\n",
       "      <th>33</th>\n",
       "      <td>1675119633</td>\n",
       "      <td>83.61</td>\n",
       "      <td>-94.938048</td>\n",
       "      <td>37.356524</td>\n",
       "      <td>32.66</td>\n",
       "    </tr>\n",
       "    <tr>\n",
       "      <th>96</th>\n",
       "      <td>1675119696</td>\n",
       "      <td>-84.27</td>\n",
       "      <td>-5.239095</td>\n",
       "      <td>45.335743</td>\n",
       "      <td>53.36</td>\n",
       "    </tr>\n",
       "    <tr>\n",
       "      <th>130</th>\n",
       "      <td>1675119730</td>\n",
       "      <td>98.20</td>\n",
       "      <td>45.590322</td>\n",
       "      <td>49.857299</td>\n",
       "      <td>69.46</td>\n",
       "    </tr>\n",
       "    <tr>\n",
       "      <th>244</th>\n",
       "      <td>1675119844</td>\n",
       "      <td>30.86</td>\n",
       "      <td>76.763570</td>\n",
       "      <td>33.189309</td>\n",
       "      <td>41.87</td>\n",
       "    </tr>\n",
       "    <tr>\n",
       "      <th>358</th>\n",
       "      <td>NaN</td>\n",
       "      <td>97.15</td>\n",
       "      <td>87.389501</td>\n",
       "      <td>38.660576</td>\n",
       "      <td>65.65</td>\n",
       "    </tr>\n",
       "    <tr>\n",
       "      <th>364</th>\n",
       "      <td>1675119964</td>\n",
       "      <td>-61.16</td>\n",
       "      <td>87.948763</td>\n",
       "      <td>38.948539</td>\n",
       "      <td>66.12</td>\n",
       "    </tr>\n",
       "    <tr>\n",
       "      <th>400</th>\n",
       "      <td>1675120000</td>\n",
       "      <td>60.23</td>\n",
       "      <td>89.237441</td>\n",
       "      <td>38.901676</td>\n",
       "      <td>6.32</td>\n",
       "    </tr>\n",
       "    <tr>\n",
       "      <th>518</th>\n",
       "      <td>1675120118</td>\n",
       "      <td>-98.36</td>\n",
       "      <td>90.564945</td>\n",
       "      <td>9.803885</td>\n",
       "      <td>32.91</td>\n",
       "    </tr>\n",
       "    <tr>\n",
       "      <th>760</th>\n",
       "      <td>1675120360</td>\n",
       "      <td>-4.56</td>\n",
       "      <td>60.710354</td>\n",
       "      <td>57.489636</td>\n",
       "      <td>69.46</td>\n",
       "    </tr>\n",
       "    <tr>\n",
       "      <th>813</th>\n",
       "      <td>1675120413</td>\n",
       "      <td>-66.18</td>\n",
       "      <td>103.833937</td>\n",
       "      <td>32.277040</td>\n",
       "      <td>31.40</td>\n",
       "    </tr>\n",
       "  </tbody>\n",
       "</table>\n",
       "</div>"
      ],
      "text/plain": [
       "      Timestamp  speed_over_ground   Longitude   Latitude  engine_fuel_rate\n",
       "33   1675119633              83.61  -94.938048  37.356524             32.66\n",
       "96   1675119696             -84.27   -5.239095  45.335743             53.36\n",
       "130  1675119730              98.20   45.590322  49.857299             69.46\n",
       "244  1675119844              30.86   76.763570  33.189309             41.87\n",
       "358         NaN              97.15   87.389501  38.660576             65.65\n",
       "364  1675119964             -61.16   87.948763  38.948539             66.12\n",
       "400  1675120000              60.23   89.237441  38.901676              6.32\n",
       "518  1675120118             -98.36   90.564945   9.803885             32.91\n",
       "760  1675120360              -4.56   60.710354  57.489636             69.46\n",
       "813  1675120413             -66.18  103.833937  32.277040             31.40"
      ]
     },
     "execution_count": 693,
     "metadata": {},
     "output_type": "execute_result"
    }
   ],
   "source": [
    "bad_df.loc[(bad_df[\"speed_over_ground\"] < 0) | (bad_df[\"speed_over_ground\"] > 20)]\n"
   ]
  },
  {
   "cell_type": "code",
   "execution_count": 694,
   "metadata": {},
   "outputs": [
    {
     "name": "stderr",
     "output_type": "stream",
     "text": [
      "/tmp/ipykernel_1161/1631826296.py:27: FutureWarning: Setting an item of incompatible dtype is deprecated and will raise an error in a future version of pandas. Value 'ERROR' has dtype incompatible with float64, please explicitly cast to a compatible dtype first.\n",
      "  df.loc[random_rows,column_name] = text\n"
     ]
    }
   ],
   "source": [
    "bad_df = random_replace(bad_df,\"speed_over_ground\", \"text\",text=\"ERROR\", replace= 5) # adding strings into numerical type column\n",
    "bad_df = random_replace(bad_df,\"speed_over_ground\", \"nan\", replace=10) # adding nan values"
   ]
  },
  {
   "cell_type": "code",
   "execution_count": 695,
   "metadata": {},
   "outputs": [
    {
     "name": "stdout",
     "output_type": "stream",
     "text": [
      "Number of Cells with 'ERROR': 4\n",
      "\n",
      "\n",
      "<class 'pandas.core.frame.DataFrame'>\n",
      "RangeIndex: 1000 entries, 0 to 999\n",
      "Data columns (total 5 columns):\n",
      " #   Column             Non-Null Count  Dtype  \n",
      "---  ------             --------------  -----  \n",
      " 0   Timestamp          990 non-null    object \n",
      " 1   speed_over_ground  990 non-null    object \n",
      " 2   Longitude          1000 non-null   float64\n",
      " 3   Latitude           1000 non-null   float64\n",
      " 4   engine_fuel_rate   1000 non-null   float64\n",
      "dtypes: float64(3), object(2)\n",
      "memory usage: 39.2+ KB\n"
     ]
    }
   ],
   "source": [
    "print(f\"Number of Cells with 'ERROR': {(bad_df['speed_over_ground'] == 'ERROR').sum()}\")\n",
    "print(\"\\n\")\n",
    "bad_df.info()"
   ]
  },
  {
   "cell_type": "markdown",
   "metadata": {},
   "source": [
    "### Longitude and Latitude"
   ]
  },
  {
   "cell_type": "code",
   "execution_count": 696,
   "metadata": {},
   "outputs": [],
   "source": [
    "# adding numbers over the max Longitude\n",
    "bad_df = random_replace(bad_df,\"Longitude\",\"number\", lower=180, upper=500, replace=5,round=6)\n",
    "# adding numbers in minus values Longitude\n",
    "bad_df = random_replace(bad_df,\"Longitude\",\"number\", lower=-180, upper=-500, replace=5, round=6)\n",
    "\n",
    "# adding numbers over the max Latitude\n",
    "bad_df = random_replace(bad_df,\"Latitude\",\"number\", lower=90, upper=250, replace=5,round=6)\n",
    "# adding numbers in minus values Latitude\n",
    "bad_df = random_replace(bad_df,\"Latitude\",\"number\", lower=-90, upper=-250, replace=5, round=6)"
   ]
  },
  {
   "cell_type": "code",
   "execution_count": 697,
   "metadata": {},
   "outputs": [
    {
     "data": {
      "text/html": [
       "<div>\n",
       "<style scoped>\n",
       "    .dataframe tbody tr th:only-of-type {\n",
       "        vertical-align: middle;\n",
       "    }\n",
       "\n",
       "    .dataframe tbody tr th {\n",
       "        vertical-align: top;\n",
       "    }\n",
       "\n",
       "    .dataframe thead th {\n",
       "        text-align: right;\n",
       "    }\n",
       "</style>\n",
       "<table border=\"1\" class=\"dataframe\">\n",
       "  <thead>\n",
       "    <tr style=\"text-align: right;\">\n",
       "      <th></th>\n",
       "      <th>Timestamp</th>\n",
       "      <th>speed_over_ground</th>\n",
       "      <th>Longitude</th>\n",
       "      <th>Latitude</th>\n",
       "      <th>engine_fuel_rate</th>\n",
       "    </tr>\n",
       "  </thead>\n",
       "  <tbody>\n",
       "    <tr>\n",
       "      <th>91</th>\n",
       "      <td>1675119691</td>\n",
       "      <td>10.54</td>\n",
       "      <td>-309.315151</td>\n",
       "      <td>44.670807</td>\n",
       "      <td>52.84</td>\n",
       "    </tr>\n",
       "    <tr>\n",
       "      <th>138</th>\n",
       "      <td>1675119738</td>\n",
       "      <td>13.49</td>\n",
       "      <td>-343.847485</td>\n",
       "      <td>50.921195</td>\n",
       "      <td>67.00</td>\n",
       "    </tr>\n",
       "    <tr>\n",
       "      <th>269</th>\n",
       "      <td>1675119869</td>\n",
       "      <td>10.1</td>\n",
       "      <td>435.213593</td>\n",
       "      <td>34.389143</td>\n",
       "      <td>50.80</td>\n",
       "    </tr>\n",
       "    <tr>\n",
       "      <th>323</th>\n",
       "      <td>1675119923</td>\n",
       "      <td>11.66</td>\n",
       "      <td>-442.493747</td>\n",
       "      <td>36.980802</td>\n",
       "      <td>57.92</td>\n",
       "    </tr>\n",
       "    <tr>\n",
       "      <th>363</th>\n",
       "      <td>1675119963</td>\n",
       "      <td>13.88</td>\n",
       "      <td>279.098227</td>\n",
       "      <td>38.900538</td>\n",
       "      <td>69.58</td>\n",
       "    </tr>\n",
       "    <tr>\n",
       "      <th>548</th>\n",
       "      <td>1675120148</td>\n",
       "      <td>8.8</td>\n",
       "      <td>226.410475</td>\n",
       "      <td>21.735928</td>\n",
       "      <td>44.26</td>\n",
       "    </tr>\n",
       "    <tr>\n",
       "      <th>682</th>\n",
       "      <td>1675120282</td>\n",
       "      <td>7.64</td>\n",
       "      <td>-355.629362</td>\n",
       "      <td>29.794164</td>\n",
       "      <td>38.21</td>\n",
       "    </tr>\n",
       "    <tr>\n",
       "      <th>691</th>\n",
       "      <td>1675120291</td>\n",
       "      <td>7.96</td>\n",
       "      <td>-250.880336</td>\n",
       "      <td>32.989799</td>\n",
       "      <td>39.35</td>\n",
       "    </tr>\n",
       "    <tr>\n",
       "      <th>794</th>\n",
       "      <td>1675120394</td>\n",
       "      <td>17.22</td>\n",
       "      <td>352.134248</td>\n",
       "      <td>69.562016</td>\n",
       "      <td>86.02</td>\n",
       "    </tr>\n",
       "    <tr>\n",
       "      <th>848</th>\n",
       "      <td>1675120448</td>\n",
       "      <td>NaN</td>\n",
       "      <td>428.312592</td>\n",
       "      <td>-32.282991</td>\n",
       "      <td>41.61</td>\n",
       "    </tr>\n",
       "  </tbody>\n",
       "</table>\n",
       "</div>"
      ],
      "text/plain": [
       "      Timestamp speed_over_ground   Longitude   Latitude  engine_fuel_rate\n",
       "91   1675119691             10.54 -309.315151  44.670807             52.84\n",
       "138  1675119738             13.49 -343.847485  50.921195             67.00\n",
       "269  1675119869              10.1  435.213593  34.389143             50.80\n",
       "323  1675119923             11.66 -442.493747  36.980802             57.92\n",
       "363  1675119963             13.88  279.098227  38.900538             69.58\n",
       "548  1675120148               8.8  226.410475  21.735928             44.26\n",
       "682  1675120282              7.64 -355.629362  29.794164             38.21\n",
       "691  1675120291              7.96 -250.880336  32.989799             39.35\n",
       "794  1675120394             17.22  352.134248  69.562016             86.02\n",
       "848  1675120448               NaN  428.312592 -32.282991             41.61"
      ]
     },
     "execution_count": 697,
     "metadata": {},
     "output_type": "execute_result"
    }
   ],
   "source": [
    "#Longitude\n",
    "bad_df.loc[(bad_df[\"Longitude\"] < -180) | (bad_df[\"Longitude\"] > 180)]\n"
   ]
  },
  {
   "cell_type": "code",
   "execution_count": 698,
   "metadata": {},
   "outputs": [
    {
     "data": {
      "text/html": [
       "<div>\n",
       "<style scoped>\n",
       "    .dataframe tbody tr th:only-of-type {\n",
       "        vertical-align: middle;\n",
       "    }\n",
       "\n",
       "    .dataframe tbody tr th {\n",
       "        vertical-align: top;\n",
       "    }\n",
       "\n",
       "    .dataframe thead th {\n",
       "        text-align: right;\n",
       "    }\n",
       "</style>\n",
       "<table border=\"1\" class=\"dataframe\">\n",
       "  <thead>\n",
       "    <tr style=\"text-align: right;\">\n",
       "      <th></th>\n",
       "      <th>Timestamp</th>\n",
       "      <th>speed_over_ground</th>\n",
       "      <th>Longitude</th>\n",
       "      <th>Latitude</th>\n",
       "      <th>engine_fuel_rate</th>\n",
       "    </tr>\n",
       "  </thead>\n",
       "  <tbody>\n",
       "    <tr>\n",
       "      <th>10</th>\n",
       "      <td>1675119610</td>\n",
       "      <td>4.42</td>\n",
       "      <td>-112.130356</td>\n",
       "      <td>-111.279774</td>\n",
       "      <td>22.21</td>\n",
       "    </tr>\n",
       "    <tr>\n",
       "      <th>159</th>\n",
       "      <td>NaN</td>\n",
       "      <td>15.61</td>\n",
       "      <td>88.944818</td>\n",
       "      <td>-93.578646</td>\n",
       "      <td>78.14</td>\n",
       "    </tr>\n",
       "    <tr>\n",
       "      <th>168</th>\n",
       "      <td>1675119768</td>\n",
       "      <td>16.63</td>\n",
       "      <td>102.399660</td>\n",
       "      <td>159.674484</td>\n",
       "      <td>83.59</td>\n",
       "    </tr>\n",
       "    <tr>\n",
       "      <th>322</th>\n",
       "      <td>1675119922</td>\n",
       "      <td>11.52</td>\n",
       "      <td>84.033950</td>\n",
       "      <td>234.977453</td>\n",
       "      <td>57.11</td>\n",
       "    </tr>\n",
       "    <tr>\n",
       "      <th>623</th>\n",
       "      <td>1675120223</td>\n",
       "      <td>2.57</td>\n",
       "      <td>-2.434400</td>\n",
       "      <td>223.603774</td>\n",
       "      <td>12.88</td>\n",
       "    </tr>\n",
       "    <tr>\n",
       "      <th>645</th>\n",
       "      <td>1675120245</td>\n",
       "      <td>4.06</td>\n",
       "      <td>-95.809040</td>\n",
       "      <td>-132.188073</td>\n",
       "      <td>19.93</td>\n",
       "    </tr>\n",
       "    <tr>\n",
       "      <th>843</th>\n",
       "      <td>1675120443</td>\n",
       "      <td>8.38</td>\n",
       "      <td>69.847023</td>\n",
       "      <td>203.307187</td>\n",
       "      <td>42.30</td>\n",
       "    </tr>\n",
       "    <tr>\n",
       "      <th>905</th>\n",
       "      <td>1675120505</td>\n",
       "      <td>11.2</td>\n",
       "      <td>77.863263</td>\n",
       "      <td>-111.336321</td>\n",
       "      <td>55.94</td>\n",
       "    </tr>\n",
       "    <tr>\n",
       "      <th>965</th>\n",
       "      <td>1675120565</td>\n",
       "      <td>14.19</td>\n",
       "      <td>85.620918</td>\n",
       "      <td>113.586045</td>\n",
       "      <td>70.71</td>\n",
       "    </tr>\n",
       "    <tr>\n",
       "      <th>978</th>\n",
       "      <td>1675120578</td>\n",
       "      <td>14.87</td>\n",
       "      <td>87.301743</td>\n",
       "      <td>-97.969260</td>\n",
       "      <td>74.10</td>\n",
       "    </tr>\n",
       "  </tbody>\n",
       "</table>\n",
       "</div>"
      ],
      "text/plain": [
       "      Timestamp speed_over_ground   Longitude    Latitude  engine_fuel_rate\n",
       "10   1675119610              4.42 -112.130356 -111.279774             22.21\n",
       "159         NaN             15.61   88.944818  -93.578646             78.14\n",
       "168  1675119768             16.63  102.399660  159.674484             83.59\n",
       "322  1675119922             11.52   84.033950  234.977453             57.11\n",
       "623  1675120223              2.57   -2.434400  223.603774             12.88\n",
       "645  1675120245              4.06  -95.809040 -132.188073             19.93\n",
       "843  1675120443              8.38   69.847023  203.307187             42.30\n",
       "905  1675120505              11.2   77.863263 -111.336321             55.94\n",
       "965  1675120565             14.19   85.620918  113.586045             70.71\n",
       "978  1675120578             14.87   87.301743  -97.969260             74.10"
      ]
     },
     "execution_count": 698,
     "metadata": {},
     "output_type": "execute_result"
    }
   ],
   "source": [
    "#Latitude\n",
    "bad_df.loc[(bad_df[\"Latitude\"] < -90) | (bad_df[\"Latitude\"] > 90)]"
   ]
  },
  {
   "cell_type": "code",
   "execution_count": 699,
   "metadata": {},
   "outputs": [
    {
     "name": "stderr",
     "output_type": "stream",
     "text": [
      "/tmp/ipykernel_1161/1631826296.py:27: FutureWarning: Setting an item of incompatible dtype is deprecated and will raise an error in a future version of pandas. Value 'ERROR' has dtype incompatible with float64, please explicitly cast to a compatible dtype first.\n",
      "  df.loc[random_rows,column_name] = text\n",
      "/tmp/ipykernel_1161/1631826296.py:27: FutureWarning: Setting an item of incompatible dtype is deprecated and will raise an error in a future version of pandas. Value 'ERROR' has dtype incompatible with float64, please explicitly cast to a compatible dtype first.\n",
      "  df.loc[random_rows,column_name] = text\n"
     ]
    }
   ],
   "source": [
    "bad_df = random_replace(bad_df,\"Longitude\", \"text\",text=\"ERROR\", replace= 5) # adding strings into numerical type column\n",
    "bad_df = random_replace(bad_df,\"Longitude\", \"nan\", replace=10) # adding nan values\n",
    "\n",
    "bad_df = random_replace(bad_df,\"Latitude\", \"text\",text=\"ERROR\", replace= 5) # adding strings into numerical type column\n",
    "bad_df = random_replace(bad_df,\"Latitude\", \"nan\", replace=10) # adding nan values"
   ]
  },
  {
   "cell_type": "code",
   "execution_count": 700,
   "metadata": {},
   "outputs": [
    {
     "name": "stdout",
     "output_type": "stream",
     "text": [
      "Number of Cells with 'ERROR' in Longitude: 5\n",
      "\n",
      "\n",
      "Number of Cells with 'ERROR' in Latitude: 5\n",
      "\n",
      "\n",
      "<class 'pandas.core.frame.DataFrame'>\n",
      "RangeIndex: 1000 entries, 0 to 999\n",
      "Data columns (total 5 columns):\n",
      " #   Column             Non-Null Count  Dtype  \n",
      "---  ------             --------------  -----  \n",
      " 0   Timestamp          990 non-null    object \n",
      " 1   speed_over_ground  990 non-null    object \n",
      " 2   Longitude          990 non-null    object \n",
      " 3   Latitude           990 non-null    object \n",
      " 4   engine_fuel_rate   1000 non-null   float64\n",
      "dtypes: float64(1), object(4)\n",
      "memory usage: 39.2+ KB\n"
     ]
    }
   ],
   "source": [
    "print(f\"Number of Cells with 'ERROR' in Longitude: {(bad_df['Longitude'] == 'ERROR').sum()}\")\n",
    "print(\"\\n\")\n",
    "\n",
    "print(f\"Number of Cells with 'ERROR' in Latitude: {(bad_df['Latitude'] == 'ERROR').sum()}\")\n",
    "print(\"\\n\")\n",
    "\n",
    "bad_df.info()"
   ]
  },
  {
   "cell_type": "markdown",
   "metadata": {},
   "source": [
    "### Engine fuel rate"
   ]
  },
  {
   "cell_type": "code",
   "execution_count": 701,
   "metadata": {},
   "outputs": [],
   "source": [
    "# adding numbers over the max\n",
    "bad_df = random_replace(bad_df,\"engine_fuel_rate\",\"number\", lower=100, upper=1000, replace=5,round=2)\n",
    "# adding numbers in minus values\n",
    "bad_df = random_replace(bad_df,\"engine_fuel_rate\",\"number\", lower=-1, upper=-100, replace=5, round=2)"
   ]
  },
  {
   "cell_type": "code",
   "execution_count": 702,
   "metadata": {},
   "outputs": [
    {
     "data": {
      "text/html": [
       "<div>\n",
       "<style scoped>\n",
       "    .dataframe tbody tr th:only-of-type {\n",
       "        vertical-align: middle;\n",
       "    }\n",
       "\n",
       "    .dataframe tbody tr th {\n",
       "        vertical-align: top;\n",
       "    }\n",
       "\n",
       "    .dataframe thead th {\n",
       "        text-align: right;\n",
       "    }\n",
       "</style>\n",
       "<table border=\"1\" class=\"dataframe\">\n",
       "  <thead>\n",
       "    <tr style=\"text-align: right;\">\n",
       "      <th></th>\n",
       "      <th>Timestamp</th>\n",
       "      <th>speed_over_ground</th>\n",
       "      <th>Longitude</th>\n",
       "      <th>Latitude</th>\n",
       "      <th>engine_fuel_rate</th>\n",
       "    </tr>\n",
       "  </thead>\n",
       "  <tbody>\n",
       "    <tr>\n",
       "      <th>94</th>\n",
       "      <td>1675119694</td>\n",
       "      <td>11.04</td>\n",
       "      <td>-8.229055</td>\n",
       "      <td>45.069773</td>\n",
       "      <td>-81.23</td>\n",
       "    </tr>\n",
       "    <tr>\n",
       "      <th>163</th>\n",
       "      <td>1675119763</td>\n",
       "      <td>15.55</td>\n",
       "      <td>94.924753</td>\n",
       "      <td>54.245868</td>\n",
       "      <td>332.18</td>\n",
       "    </tr>\n",
       "    <tr>\n",
       "      <th>211</th>\n",
       "      <td>1675119811</td>\n",
       "      <td>7.47</td>\n",
       "      <td>132.897588</td>\n",
       "      <td>51.565147</td>\n",
       "      <td>-70.46</td>\n",
       "    </tr>\n",
       "    <tr>\n",
       "      <th>230</th>\n",
       "      <td>1675119830</td>\n",
       "      <td>8.63</td>\n",
       "      <td>97.486696</td>\n",
       "      <td>39.114668</td>\n",
       "      <td>-42.36</td>\n",
       "    </tr>\n",
       "    <tr>\n",
       "      <th>354</th>\n",
       "      <td>1675119954</td>\n",
       "      <td>13.77</td>\n",
       "      <td>87.01666</td>\n",
       "      <td>38.468598</td>\n",
       "      <td>206.41</td>\n",
       "    </tr>\n",
       "    <tr>\n",
       "      <th>536</th>\n",
       "      <td>1675120136</td>\n",
       "      <td>7.59</td>\n",
       "      <td>105.205805</td>\n",
       "      <td>16.963109</td>\n",
       "      <td>-43.34</td>\n",
       "    </tr>\n",
       "    <tr>\n",
       "      <th>783</th>\n",
       "      <td>1675120383</td>\n",
       "      <td>16.46</td>\n",
       "      <td>92.014237</td>\n",
       "      <td>65.656243</td>\n",
       "      <td>-44.03</td>\n",
       "    </tr>\n",
       "    <tr>\n",
       "      <th>790</th>\n",
       "      <td>1675120390</td>\n",
       "      <td>17.16</td>\n",
       "      <td>101.541509</td>\n",
       "      <td>68.141741</td>\n",
       "      <td>237.41</td>\n",
       "    </tr>\n",
       "    <tr>\n",
       "      <th>805</th>\n",
       "      <td>1675120405</td>\n",
       "      <td>5.99</td>\n",
       "      <td>110.262648</td>\n",
       "      <td>54.466731</td>\n",
       "      <td>432.97</td>\n",
       "    </tr>\n",
       "    <tr>\n",
       "      <th>958</th>\n",
       "      <td>1675120558</td>\n",
       "      <td>14.13</td>\n",
       "      <td>84.715866</td>\n",
       "      <td>30.699519</td>\n",
       "      <td>236.33</td>\n",
       "    </tr>\n",
       "  </tbody>\n",
       "</table>\n",
       "</div>"
      ],
      "text/plain": [
       "      Timestamp speed_over_ground   Longitude   Latitude  engine_fuel_rate\n",
       "94   1675119694             11.04   -8.229055  45.069773            -81.23\n",
       "163  1675119763             15.55   94.924753  54.245868            332.18\n",
       "211  1675119811              7.47  132.897588  51.565147            -70.46\n",
       "230  1675119830              8.63   97.486696  39.114668            -42.36\n",
       "354  1675119954             13.77    87.01666  38.468598            206.41\n",
       "536  1675120136              7.59  105.205805  16.963109            -43.34\n",
       "783  1675120383             16.46   92.014237  65.656243            -44.03\n",
       "790  1675120390             17.16  101.541509  68.141741            237.41\n",
       "805  1675120405              5.99  110.262648  54.466731            432.97\n",
       "958  1675120558             14.13   84.715866  30.699519            236.33"
      ]
     },
     "execution_count": 702,
     "metadata": {},
     "output_type": "execute_result"
    }
   ],
   "source": [
    "bad_df.loc[(bad_df[\"engine_fuel_rate\"] < -1) | (bad_df[\"engine_fuel_rate\"] > 100)]"
   ]
  },
  {
   "cell_type": "code",
   "execution_count": 703,
   "metadata": {},
   "outputs": [
    {
     "name": "stderr",
     "output_type": "stream",
     "text": [
      "/tmp/ipykernel_1161/1631826296.py:27: FutureWarning: Setting an item of incompatible dtype is deprecated and will raise an error in a future version of pandas. Value 'ERROR' has dtype incompatible with float64, please explicitly cast to a compatible dtype first.\n",
      "  df.loc[random_rows,column_name] = text\n"
     ]
    }
   ],
   "source": [
    "bad_df = random_replace(bad_df,\"engine_fuel_rate\", \"text\",text=\"ERROR\", replace= 5) # adding strings into numerical type column\n",
    "bad_df = random_replace(bad_df,\"engine_fuel_rate\", \"nan\", replace=10) # adding nan values"
   ]
  },
  {
   "cell_type": "code",
   "execution_count": 704,
   "metadata": {},
   "outputs": [
    {
     "name": "stdout",
     "output_type": "stream",
     "text": [
      "Number of Cells with 'ERROR': 5\n",
      "\n",
      "\n",
      "<class 'pandas.core.frame.DataFrame'>\n",
      "RangeIndex: 1000 entries, 0 to 999\n",
      "Data columns (total 5 columns):\n",
      " #   Column             Non-Null Count  Dtype \n",
      "---  ------             --------------  ----- \n",
      " 0   Timestamp          990 non-null    object\n",
      " 1   speed_over_ground  990 non-null    object\n",
      " 2   Longitude          990 non-null    object\n",
      " 3   Latitude           990 non-null    object\n",
      " 4   engine_fuel_rate   990 non-null    object\n",
      "dtypes: object(5)\n",
      "memory usage: 39.2+ KB\n"
     ]
    }
   ],
   "source": [
    "print(f\"Number of Cells with 'ERROR': {(bad_df['engine_fuel_rate'] == 'ERROR').sum()}\")\n",
    "print(\"\\n\")\n",
    "\n",
    "bad_df.info()"
   ]
  },
  {
   "cell_type": "markdown",
   "metadata": {},
   "source": [
    "Now that I have added all the bad data within the Dataframe I can save it to a csv file so I continue with the next part of the project."
   ]
  },
  {
   "cell_type": "code",
   "execution_count": 705,
   "metadata": {},
   "outputs": [],
   "source": [
    "bad_df.to_csv(\"../src/Data/dummy_boat_data.csv\", index=False)"
   ]
  },
  {
   "cell_type": "code",
   "execution_count": 4,
   "metadata": {},
   "outputs": [],
   "source": [
    "final_df = pd.read_csv(\"../src/Data/dummy_boat_data.csv\")"
   ]
  },
  {
   "cell_type": "code",
   "execution_count": 6,
   "metadata": {},
   "outputs": [
    {
     "data": {
      "text/html": [
       "<div>\n",
       "<style scoped>\n",
       "    .dataframe tbody tr th:only-of-type {\n",
       "        vertical-align: middle;\n",
       "    }\n",
       "\n",
       "    .dataframe tbody tr th {\n",
       "        vertical-align: top;\n",
       "    }\n",
       "\n",
       "    .dataframe thead th {\n",
       "        text-align: right;\n",
       "    }\n",
       "</style>\n",
       "<table border=\"1\" class=\"dataframe\">\n",
       "  <thead>\n",
       "    <tr style=\"text-align: right;\">\n",
       "      <th></th>\n",
       "      <th>Timestamp</th>\n",
       "      <th>speed_over_ground</th>\n",
       "      <th>Longitude</th>\n",
       "      <th>Latitude</th>\n",
       "      <th>engine_fuel_rate</th>\n",
       "    </tr>\n",
       "  </thead>\n",
       "  <tbody>\n",
       "    <tr>\n",
       "      <th>0</th>\n",
       "      <td>1675119600</td>\n",
       "      <td>3.08</td>\n",
       "      <td>-119.605263</td>\n",
       "      <td>35.162237</td>\n",
       "      <td>14.92</td>\n",
       "    </tr>\n",
       "    <tr>\n",
       "      <th>1</th>\n",
       "      <td>1675119601</td>\n",
       "      <td>4.11</td>\n",
       "      <td>-118.857776</td>\n",
       "      <td>35.228734</td>\n",
       "      <td>21.02</td>\n",
       "    </tr>\n",
       "    <tr>\n",
       "      <th>2</th>\n",
       "      <td>1675119602</td>\n",
       "      <td>4.04</td>\n",
       "      <td>-118.110278</td>\n",
       "      <td>35.295227</td>\n",
       "      <td>20.53</td>\n",
       "    </tr>\n",
       "    <tr>\n",
       "      <th>3</th>\n",
       "      <td>1675119603</td>\n",
       "      <td>3.5</td>\n",
       "      <td>-117.362786</td>\n",
       "      <td>35.361725</td>\n",
       "      <td>17.21</td>\n",
       "    </tr>\n",
       "    <tr>\n",
       "      <th>4</th>\n",
       "      <td>1675119604</td>\n",
       "      <td>ERROR</td>\n",
       "      <td>-116.615295</td>\n",
       "      <td>35.428215</td>\n",
       "      <td>17.38</td>\n",
       "    </tr>\n",
       "  </tbody>\n",
       "</table>\n",
       "</div>"
      ],
      "text/plain": [
       "    Timestamp speed_over_ground    Longitude   Latitude engine_fuel_rate\n",
       "0  1675119600              3.08  -119.605263  35.162237            14.92\n",
       "1  1675119601              4.11  -118.857776  35.228734            21.02\n",
       "2  1675119602              4.04  -118.110278  35.295227            20.53\n",
       "3  1675119603               3.5  -117.362786  35.361725            17.21\n",
       "4  1675119604             ERROR  -116.615295  35.428215            17.38"
      ]
     },
     "execution_count": 6,
     "metadata": {},
     "output_type": "execute_result"
    }
   ],
   "source": [
    "final_df.head()"
   ]
  }
 ],
 "metadata": {
  "kernelspec": {
   "display_name": "venv",
   "language": "python",
   "name": "python3"
  },
  "language_info": {
   "codemirror_mode": {
    "name": "ipython",
    "version": 3
   },
   "file_extension": ".py",
   "mimetype": "text/x-python",
   "name": "python",
   "nbconvert_exporter": "python",
   "pygments_lexer": "ipython3",
   "version": "3.11.7"
  }
 },
 "nbformat": 4,
 "nbformat_minor": 2
}
