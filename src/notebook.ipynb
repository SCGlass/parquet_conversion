{
 "cells": [
  {
   "cell_type": "code",
   "execution_count": 59,
   "metadata": {},
   "outputs": [],
   "source": [
    "import pandas as pd\n",
    "import numpy as np\n",
    "import boto3\n",
    "import logging\n",
    "from botocore.exceptions import ClientError\n",
    "import io\n",
    "import os\n"
   ]
  },
  {
   "cell_type": "code",
   "execution_count": 64,
   "metadata": {},
   "outputs": [],
   "source": [
    "AWS_S3_BUCKET = os.getenv(\"AWS_S3_BUCKET\")\n",
    "AWS_ACCESS_KEY_ID = os.getenv(\"AWS_ACCESS_KEY_ID\")\n",
    "AWS_SECRET_ACCESS_KEY = os.getenv(\"AWS_SECRET_ACCESS_KEY\")\n",
    "AWS_SESSION_TOKEN = os.getenv(\"AWS_SESSION_TOKEN\")\n"
   ]
  },
  {
   "cell_type": "code",
   "execution_count": 70,
   "metadata": {},
   "outputs": [
    {
     "name": "stdout",
     "output_type": "stream",
     "text": [
      "    Timestamp speed_over_ground    Longitude   Latitude engine_fuel_rate\n",
      "0  1675119600              3.08  -119.605263  35.162237            14.92\n",
      "1  1675119601              4.11  -118.857776  35.228734            21.02\n",
      "2  1675119602              4.04  -118.110278  35.295227            20.53\n",
      "3  1675119603               3.5  -117.362786  35.361725            17.21\n",
      "4  1675119604             ERROR  -116.615295  35.428215            17.38\n"
     ]
    }
   ],
   "source": [
    "aws_access_key_id = os.getenv(\"AWS_ACCESS_KEY_ID\")\n",
    "aws_secret_access_key = os.getenv(\"AWS_SECRET_ACCESS_KEY\")\n",
    "region_name = 'eu-west-1'  # Replace with your AWS region\n",
    "bucket_name = 'csv-files-parquet'\n",
    "file_key = 'dummy_boat_data.csv'\n",
    "\n",
    "# Create an S3 client\n",
    "s3 = boto3.client('s3', aws_access_key_id=aws_access_key_id, aws_secret_access_key=aws_secret_access_key, region_name=region_name)\n",
    "\n",
    "# Read CSV file from S3 into a Pandas DataFrame\n",
    "try:\n",
    "    # Use 's3.get_object' to get the object and 'pd.read_csv' to read it into a DataFrame\n",
    "    obj = s3.get_object(Bucket=bucket_name, Key=file_key)\n",
    "    df = pd.read_csv(obj['Body'])\n",
    "    \n",
    "    # Now 'df' contains your CSV data\n",
    "    print(df.head())  # Display the first few rows of the DataFrame\n",
    "except Exception as e:\n",
    "    print(f\"Error: {e}\")"
   ]
  }
 ],
 "metadata": {
  "kernelspec": {
   "display_name": "venv",
   "language": "python",
   "name": "python3"
  },
  "language_info": {
   "codemirror_mode": {
    "name": "ipython",
    "version": 3
   },
   "file_extension": ".py",
   "mimetype": "text/x-python",
   "name": "python",
   "nbconvert_exporter": "python",
   "pygments_lexer": "ipython3",
   "version": "3.11.7"
  }
 },
 "nbformat": 4,
 "nbformat_minor": 2
}
