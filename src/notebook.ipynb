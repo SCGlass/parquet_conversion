{
 "cells": [
  {
   "cell_type": "code",
   "execution_count": 71,
   "metadata": {},
   "outputs": [],
   "source": [
    "import pandas as pd\n",
    "import numpy as np\n",
    "import boto3\n",
    "import os\n"
   ]
  },
  {
   "cell_type": "code",
   "execution_count": 64,
   "metadata": {},
   "outputs": [],
   "source": [
    "# accessing keys from .env file\n",
    "AWS_S3_BUCKET = os.getenv(\"AWS_S3_BUCKET\")\n",
    "AWS_ACCESS_KEY_ID = os.getenv(\"AWS_ACCESS_KEY_ID\")\n",
    "AWS_SECRET_ACCESS_KEY = os.getenv(\"AWS_SECRET_ACCESS_KEY\")\n"
   ]
  },
  {
   "cell_type": "code",
   "execution_count": 70,
   "metadata": {},
   "outputs": [
    {
     "name": "stdout",
     "output_type": "stream",
     "text": [
      "    Timestamp speed_over_ground    Longitude   Latitude engine_fuel_rate\n",
      "0  1675119600              3.08  -119.605263  35.162237            14.92\n",
      "1  1675119601              4.11  -118.857776  35.228734            21.02\n",
      "2  1675119602              4.04  -118.110278  35.295227            20.53\n",
      "3  1675119603               3.5  -117.362786  35.361725            17.21\n",
      "4  1675119604             ERROR  -116.615295  35.428215            17.38\n"
     ]
    }
   ],
   "source": [
    "region_name = 'eu-west-1' \n",
    "bucket_name = 'csv-files-parquet'\n",
    "file_key = 'dummy_boat_data.csv'\n",
    "\n",
    "# Create an S3 client\n",
    "s3 = boto3.client('s3', \n",
    "                  aws_access_key_id=AWS_ACCESS_KEY_ID, \n",
    "                  aws_secret_access_key=AWS_SECRET_ACCESS_KEY, \n",
    "                  region_name=region_name)\n",
    "\n",
    "# Read CSV file from S3 into a Pandas DataFrame\n",
    "try:\n",
    "    # Use 's3.get_object' to get the object and 'pd.read_csv' to read it into a DataFrame\n",
    "    obj = s3.get_object(Bucket=bucket_name, Key=file_key)\n",
    "    df = pd.read_csv(obj['Body'])\n",
    "    \n",
    "    # Now 'df' contains your CSV data\n",
    "    print(df.head())  # Display the first few rows of the DataFrame\n",
    "except Exception as e:\n",
    "    print(f\"Error: {e}\")"
   ]
  },
  {
   "cell_type": "code",
   "execution_count": 73,
   "metadata": {},
   "outputs": [
    {
     "data": {
      "text/html": [
       "<div>\n",
       "<style scoped>\n",
       "    .dataframe tbody tr th:only-of-type {\n",
       "        vertical-align: middle;\n",
       "    }\n",
       "\n",
       "    .dataframe tbody tr th {\n",
       "        vertical-align: top;\n",
       "    }\n",
       "\n",
       "    .dataframe thead th {\n",
       "        text-align: right;\n",
       "    }\n",
       "</style>\n",
       "<table border=\"1\" class=\"dataframe\">\n",
       "  <thead>\n",
       "    <tr style=\"text-align: right;\">\n",
       "      <th></th>\n",
       "      <th>Title</th>\n",
       "      <th>Price</th>\n",
       "    </tr>\n",
       "  </thead>\n",
       "  <tbody>\n",
       "    <tr>\n",
       "      <th>0</th>\n",
       "      <td>Book I</td>\n",
       "      <td>56.60</td>\n",
       "    </tr>\n",
       "    <tr>\n",
       "      <th>1</th>\n",
       "      <td>Book II</td>\n",
       "      <td>59.87</td>\n",
       "    </tr>\n",
       "    <tr>\n",
       "      <th>2</th>\n",
       "      <td>Book III</td>\n",
       "      <td>74.54</td>\n",
       "    </tr>\n",
       "  </tbody>\n",
       "</table>\n",
       "</div>"
      ],
      "text/plain": [
       "      Title  Price\n",
       "0    Book I  56.60\n",
       "1   Book II  59.87\n",
       "2  Book III  74.54"
      ]
     },
     "execution_count": 73,
     "metadata": {},
     "output_type": "execute_result"
    }
   ],
   "source": [
    "# Testing to write to s3 bucket\n",
    "\n",
    "# create a sample data frame\n",
    "\n",
    "books_df = pd.DataFrame(\n",
    "    data={\"Title\": [\"Book I\", \"Book II\", \"Book III\"], \"Price\": [56.6, 59.87,74.54]},\n",
    "    columns=[\"Title\", \"Price\"]\n",
    ")\n",
    "\n",
    "books_df.head()"
   ]
  },
  {
   "cell_type": "code",
   "execution_count": 77,
   "metadata": {},
   "outputs": [],
   "source": [
    "# entering the dataframe into another folder on AWS s3\n",
    "\n",
    "books_df.to_parquet(\n",
    "    \"s3://new-parquet-files/books.parquet\",\n",
    "    index=False,\n",
    "    storage_options={\n",
    "        \"key\": AWS_ACCESS_KEY_ID,\n",
    "        \"secret\":AWS_SECRET_ACCESS_KEY\n",
    "    }\n",
    ")"
   ]
  }
 ],
 "metadata": {
  "kernelspec": {
   "display_name": "venv",
   "language": "python",
   "name": "python3"
  },
  "language_info": {
   "codemirror_mode": {
    "name": "ipython",
    "version": 3
   },
   "file_extension": ".py",
   "mimetype": "text/x-python",
   "name": "python",
   "nbconvert_exporter": "python",
   "pygments_lexer": "ipython3",
   "version": "3.11.7"
  }
 },
 "nbformat": 4,
 "nbformat_minor": 2
}
