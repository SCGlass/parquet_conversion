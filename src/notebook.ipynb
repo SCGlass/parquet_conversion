{
 "cells": [
  {
   "cell_type": "code",
   "execution_count": 372,
   "metadata": {},
   "outputs": [],
   "source": [
    "import pandas as pd\n",
    "import numpy as np\n",
    "import boto3\n",
    "import os\n",
    "import datetime\n"
   ]
  },
  {
   "cell_type": "code",
   "execution_count": 373,
   "metadata": {},
   "outputs": [],
   "source": [
    "# accessing keys from .env file\n",
    "AWS_S3_BUCKET = os.getenv(\"AWS_S3_BUCKET\")\n",
    "AWS_ACCESS_KEY_ID = os.getenv(\"AWS_ACCESS_KEY_ID\")\n",
    "AWS_SECRET_ACCESS_KEY = os.getenv(\"AWS_SECRET_ACCESS_KEY\")\n"
   ]
  },
  {
   "cell_type": "code",
   "execution_count": 374,
   "metadata": {},
   "outputs": [
    {
     "name": "stdout",
     "output_type": "stream",
     "text": [
      "    Timestamp speed_over_ground    Longitude   Latitude engine_fuel_rate\n",
      "0  1675119600              3.08  -119.605263  35.162237            14.92\n",
      "1  1675119601              4.11  -118.857776  35.228734            21.02\n",
      "2  1675119602              4.04  -118.110278  35.295227            20.53\n",
      "3  1675119603               3.5  -117.362786  35.361725            17.21\n",
      "4  1675119604             ERROR  -116.615295  35.428215            17.38\n"
     ]
    }
   ],
   "source": [
    "region_name = 'eu-west-1' \n",
    "bucket_name = 'csv-files-parquet'\n",
    "file_key = 'dummy_boat_data.csv'\n",
    "\n",
    "# Create an S3 client\n",
    "s3 = boto3.client('s3', \n",
    "                  aws_access_key_id=AWS_ACCESS_KEY_ID, \n",
    "                  aws_secret_access_key=AWS_SECRET_ACCESS_KEY, \n",
    "                  region_name=region_name)\n",
    "\n",
    "# Read CSV file from S3 into a Pandas DataFrame\n",
    "try:\n",
    "    # Use 's3.get_object' to get the object and 'pd.read_csv' to read it into a DataFrame\n",
    "    obj = s3.get_object(Bucket=bucket_name, Key=file_key)\n",
    "    df = pd.read_csv(obj['Body'])\n",
    "    \n",
    "    # Now 'df' contains your CSV data\n",
    "    print(df.head())  # Display the first few rows of the DataFrame\n",
    "except Exception as e:\n",
    "    print(f\"Error: {e}\")"
   ]
  },
  {
   "cell_type": "code",
   "execution_count": 375,
   "metadata": {},
   "outputs": [
    {
     "data": {
      "text/html": [
       "<div>\n",
       "<style scoped>\n",
       "    .dataframe tbody tr th:only-of-type {\n",
       "        vertical-align: middle;\n",
       "    }\n",
       "\n",
       "    .dataframe tbody tr th {\n",
       "        vertical-align: top;\n",
       "    }\n",
       "\n",
       "    .dataframe thead th {\n",
       "        text-align: right;\n",
       "    }\n",
       "</style>\n",
       "<table border=\"1\" class=\"dataframe\">\n",
       "  <thead>\n",
       "    <tr style=\"text-align: right;\">\n",
       "      <th></th>\n",
       "      <th>Title</th>\n",
       "      <th>Price</th>\n",
       "    </tr>\n",
       "  </thead>\n",
       "  <tbody>\n",
       "    <tr>\n",
       "      <th>0</th>\n",
       "      <td>Book I</td>\n",
       "      <td>56.60</td>\n",
       "    </tr>\n",
       "    <tr>\n",
       "      <th>1</th>\n",
       "      <td>Book II</td>\n",
       "      <td>59.87</td>\n",
       "    </tr>\n",
       "    <tr>\n",
       "      <th>2</th>\n",
       "      <td>Book III</td>\n",
       "      <td>74.54</td>\n",
       "    </tr>\n",
       "  </tbody>\n",
       "</table>\n",
       "</div>"
      ],
      "text/plain": [
       "      Title  Price\n",
       "0    Book I  56.60\n",
       "1   Book II  59.87\n",
       "2  Book III  74.54"
      ]
     },
     "execution_count": 375,
     "metadata": {},
     "output_type": "execute_result"
    }
   ],
   "source": [
    "# Testing to write to s3 bucket\n",
    "\n",
    "# create a sample data frame\n",
    "\n",
    "books_df = pd.DataFrame(\n",
    "    data={\"Title\": [\"Book I\", \"Book II\", \"Book III\"], \"Price\": [56.6, 59.87,74.54]},\n",
    "    columns=[\"Title\", \"Price\"]\n",
    ")\n",
    "\n",
    "books_df.head()"
   ]
  },
  {
   "cell_type": "code",
   "execution_count": 376,
   "metadata": {},
   "outputs": [],
   "source": [
    "# entering the dataframe into another folder on AWS s3\n",
    "\n",
    "books_df.to_parquet(\n",
    "    \"s3://new-parquet-files/books.parquet\",\n",
    "    index=False,\n",
    "    storage_options={\n",
    "        \"key\": AWS_ACCESS_KEY_ID,\n",
    "        \"secret\":AWS_SECRET_ACCESS_KEY\n",
    "    }\n",
    ")"
   ]
  },
  {
   "cell_type": "code",
   "execution_count": 377,
   "metadata": {},
   "outputs": [
    {
     "data": {
      "text/html": [
       "<div>\n",
       "<style scoped>\n",
       "    .dataframe tbody tr th:only-of-type {\n",
       "        vertical-align: middle;\n",
       "    }\n",
       "\n",
       "    .dataframe tbody tr th {\n",
       "        vertical-align: top;\n",
       "    }\n",
       "\n",
       "    .dataframe thead th {\n",
       "        text-align: right;\n",
       "    }\n",
       "</style>\n",
       "<table border=\"1\" class=\"dataframe\">\n",
       "  <thead>\n",
       "    <tr style=\"text-align: right;\">\n",
       "      <th></th>\n",
       "      <th>Timestamp</th>\n",
       "      <th>speed_over_ground</th>\n",
       "      <th>Longitude</th>\n",
       "      <th>Latitude</th>\n",
       "      <th>engine_fuel_rate</th>\n",
       "    </tr>\n",
       "  </thead>\n",
       "  <tbody>\n",
       "    <tr>\n",
       "      <th>0</th>\n",
       "      <td>1675119600</td>\n",
       "      <td>3.08</td>\n",
       "      <td>-119.605263</td>\n",
       "      <td>35.162237</td>\n",
       "      <td>14.92</td>\n",
       "    </tr>\n",
       "    <tr>\n",
       "      <th>1</th>\n",
       "      <td>1675119601</td>\n",
       "      <td>4.11</td>\n",
       "      <td>-118.857776</td>\n",
       "      <td>35.228734</td>\n",
       "      <td>21.02</td>\n",
       "    </tr>\n",
       "    <tr>\n",
       "      <th>2</th>\n",
       "      <td>1675119602</td>\n",
       "      <td>4.04</td>\n",
       "      <td>-118.110278</td>\n",
       "      <td>35.295227</td>\n",
       "      <td>20.53</td>\n",
       "    </tr>\n",
       "    <tr>\n",
       "      <th>3</th>\n",
       "      <td>1675119603</td>\n",
       "      <td>3.5</td>\n",
       "      <td>-117.362786</td>\n",
       "      <td>35.361725</td>\n",
       "      <td>17.21</td>\n",
       "    </tr>\n",
       "    <tr>\n",
       "      <th>4</th>\n",
       "      <td>1675119604</td>\n",
       "      <td>ERROR</td>\n",
       "      <td>-116.615295</td>\n",
       "      <td>35.428215</td>\n",
       "      <td>17.38</td>\n",
       "    </tr>\n",
       "  </tbody>\n",
       "</table>\n",
       "</div>"
      ],
      "text/plain": [
       "    Timestamp speed_over_ground    Longitude   Latitude engine_fuel_rate\n",
       "0  1675119600              3.08  -119.605263  35.162237            14.92\n",
       "1  1675119601              4.11  -118.857776  35.228734            21.02\n",
       "2  1675119602              4.04  -118.110278  35.295227            20.53\n",
       "3  1675119603               3.5  -117.362786  35.361725            17.21\n",
       "4  1675119604             ERROR  -116.615295  35.428215            17.38"
      ]
     },
     "execution_count": 377,
     "metadata": {},
     "output_type": "execute_result"
    }
   ],
   "source": [
    "df.head()"
   ]
  },
  {
   "cell_type": "code",
   "execution_count": 378,
   "metadata": {},
   "outputs": [
    {
     "name": "stdout",
     "output_type": "stream",
     "text": [
      "<class 'pandas.core.frame.DataFrame'>\n",
      "RangeIndex: 1000 entries, 0 to 999\n",
      "Data columns (total 5 columns):\n",
      " #   Column             Non-Null Count  Dtype \n",
      "---  ------             --------------  ----- \n",
      " 0   Timestamp          990 non-null    object\n",
      " 1   speed_over_ground  990 non-null    object\n",
      " 2   Longitude          990 non-null    object\n",
      " 3   Latitude           990 non-null    object\n",
      " 4   engine_fuel_rate   990 non-null    object\n",
      "dtypes: object(5)\n",
      "memory usage: 39.2+ KB\n"
     ]
    }
   ],
   "source": [
    "df.info()"
   ]
  },
  {
   "cell_type": "code",
   "execution_count": 379,
   "metadata": {},
   "outputs": [],
   "source": [
    "#class CsvCleaner:\n",
    "    #@staticmethod\n",
    "def timestamp_clean(df, col_name):\n",
    "    # convert the column to numeric with any errors(for example strings or letter) to NaN\n",
    "    df[col_name] = pd.to_numeric(df[col_name], errors=\"coerce\")\n",
    "    \n",
    "    # Interpolate NaN values in the timestamp column\n",
    "    df[col_name] = df[col_name].interpolate()\n",
    "    \n",
    "    #Filter out rows with \"Timestamp\" values not containing 10 digits\n",
    "    df = df[df[col_name].apply(lambda x: len(str(int(x))) == 10)]\n",
    "    \n",
    "    # Convert the Unix timestamp to datetime with seconds\n",
    "    df[col_name] = pd.to_datetime(df[col_name], unit=\"s\")\n",
    "\n",
    "    # Sort the DataFrame by the timestamp column\n",
    "    df = df.sort_values(by=col_name)\n",
    "\n",
    "    return df"
   ]
  },
  {
   "cell_type": "code",
   "execution_count": 380,
   "metadata": {},
   "outputs": [
    {
     "name": "stderr",
     "output_type": "stream",
     "text": [
      "/tmp/ipykernel_1433/2105776622.py:17: SettingWithCopyWarning: \n",
      "A value is trying to be set on a copy of a slice from a DataFrame.\n",
      "Try using .loc[row_indexer,col_indexer] = value instead\n",
      "\n",
      "See the caveats in the documentation: https://pandas.pydata.org/pandas-docs/stable/user_guide/indexing.html#returning-a-view-versus-a-copy\n",
      "  df[col_name] = pd.to_datetime(df[col_name], unit=\"s\")\n"
     ]
    }
   ],
   "source": [
    "cleaned_df = timestamp_clean(df, \"Timestamp\")"
   ]
  },
  {
   "cell_type": "code",
   "execution_count": 381,
   "metadata": {},
   "outputs": [
    {
     "data": {
      "text/html": [
       "<div>\n",
       "<style scoped>\n",
       "    .dataframe tbody tr th:only-of-type {\n",
       "        vertical-align: middle;\n",
       "    }\n",
       "\n",
       "    .dataframe tbody tr th {\n",
       "        vertical-align: top;\n",
       "    }\n",
       "\n",
       "    .dataframe thead th {\n",
       "        text-align: right;\n",
       "    }\n",
       "</style>\n",
       "<table border=\"1\" class=\"dataframe\">\n",
       "  <thead>\n",
       "    <tr style=\"text-align: right;\">\n",
       "      <th></th>\n",
       "      <th>Timestamp</th>\n",
       "      <th>speed_over_ground</th>\n",
       "      <th>Longitude</th>\n",
       "      <th>Latitude</th>\n",
       "      <th>engine_fuel_rate</th>\n",
       "    </tr>\n",
       "  </thead>\n",
       "  <tbody>\n",
       "    <tr>\n",
       "      <th>0</th>\n",
       "      <td>2023-01-30 23:00:00</td>\n",
       "      <td>3.08</td>\n",
       "      <td>-119.605263</td>\n",
       "      <td>35.162237</td>\n",
       "      <td>14.92</td>\n",
       "    </tr>\n",
       "    <tr>\n",
       "      <th>1</th>\n",
       "      <td>2023-01-30 23:00:01</td>\n",
       "      <td>4.11</td>\n",
       "      <td>-118.857776</td>\n",
       "      <td>35.228734</td>\n",
       "      <td>21.02</td>\n",
       "    </tr>\n",
       "    <tr>\n",
       "      <th>2</th>\n",
       "      <td>2023-01-30 23:00:02</td>\n",
       "      <td>4.04</td>\n",
       "      <td>-118.110278</td>\n",
       "      <td>35.295227</td>\n",
       "      <td>20.53</td>\n",
       "    </tr>\n",
       "    <tr>\n",
       "      <th>3</th>\n",
       "      <td>2023-01-30 23:00:03</td>\n",
       "      <td>3.5</td>\n",
       "      <td>-117.362786</td>\n",
       "      <td>35.361725</td>\n",
       "      <td>17.21</td>\n",
       "    </tr>\n",
       "    <tr>\n",
       "      <th>4</th>\n",
       "      <td>2023-01-30 23:00:04</td>\n",
       "      <td>ERROR</td>\n",
       "      <td>-116.615295</td>\n",
       "      <td>35.428215</td>\n",
       "      <td>17.38</td>\n",
       "    </tr>\n",
       "    <tr>\n",
       "      <th>...</th>\n",
       "      <td>...</td>\n",
       "      <td>...</td>\n",
       "      <td>...</td>\n",
       "      <td>...</td>\n",
       "      <td>...</td>\n",
       "    </tr>\n",
       "    <tr>\n",
       "      <th>995</th>\n",
       "      <td>2023-01-30 23:16:35</td>\n",
       "      <td>16.18</td>\n",
       "      <td>89.499749</td>\n",
       "      <td>51.884541</td>\n",
       "      <td>81.06</td>\n",
       "    </tr>\n",
       "    <tr>\n",
       "      <th>996</th>\n",
       "      <td>2023-01-30 23:16:36</td>\n",
       "      <td>16.26</td>\n",
       "      <td>89.629043</td>\n",
       "      <td>ERROR</td>\n",
       "      <td>81.49</td>\n",
       "    </tr>\n",
       "    <tr>\n",
       "      <th>997</th>\n",
       "      <td>2023-01-30 23:16:37</td>\n",
       "      <td>NaN</td>\n",
       "      <td>89.758342</td>\n",
       "      <td>53.029681</td>\n",
       "      <td>82.7</td>\n",
       "    </tr>\n",
       "    <tr>\n",
       "      <th>998</th>\n",
       "      <td>2023-01-30 23:16:38</td>\n",
       "      <td>15.93</td>\n",
       "      <td>89.887628</td>\n",
       "      <td>53.602249</td>\n",
       "      <td>79.4</td>\n",
       "    </tr>\n",
       "    <tr>\n",
       "      <th>999</th>\n",
       "      <td>2023-01-30 23:16:39</td>\n",
       "      <td>16.22</td>\n",
       "      <td>90.016929</td>\n",
       "      <td>54.174817</td>\n",
       "      <td>81.09</td>\n",
       "    </tr>\n",
       "  </tbody>\n",
       "</table>\n",
       "<p>995 rows × 5 columns</p>\n",
       "</div>"
      ],
      "text/plain": [
       "              Timestamp speed_over_ground    Longitude   Latitude  \\\n",
       "0   2023-01-30 23:00:00              3.08  -119.605263  35.162237   \n",
       "1   2023-01-30 23:00:01              4.11  -118.857776  35.228734   \n",
       "2   2023-01-30 23:00:02              4.04  -118.110278  35.295227   \n",
       "3   2023-01-30 23:00:03               3.5  -117.362786  35.361725   \n",
       "4   2023-01-30 23:00:04             ERROR  -116.615295  35.428215   \n",
       "..                  ...               ...          ...        ...   \n",
       "995 2023-01-30 23:16:35             16.18    89.499749  51.884541   \n",
       "996 2023-01-30 23:16:36             16.26    89.629043      ERROR   \n",
       "997 2023-01-30 23:16:37               NaN    89.758342  53.029681   \n",
       "998 2023-01-30 23:16:38             15.93    89.887628  53.602249   \n",
       "999 2023-01-30 23:16:39             16.22    90.016929  54.174817   \n",
       "\n",
       "    engine_fuel_rate  \n",
       "0              14.92  \n",
       "1              21.02  \n",
       "2              20.53  \n",
       "3              17.21  \n",
       "4              17.38  \n",
       "..               ...  \n",
       "995            81.06  \n",
       "996            81.49  \n",
       "997             82.7  \n",
       "998             79.4  \n",
       "999            81.09  \n",
       "\n",
       "[995 rows x 5 columns]"
      ]
     },
     "execution_count": 381,
     "metadata": {},
     "output_type": "execute_result"
    }
   ],
   "source": [
    "cleaned_df"
   ]
  },
  {
   "cell_type": "code",
   "execution_count": 382,
   "metadata": {},
   "outputs": [
    {
     "name": "stdout",
     "output_type": "stream",
     "text": [
      "<class 'pandas.core.frame.DataFrame'>\n",
      "Index: 995 entries, 0 to 999\n",
      "Data columns (total 5 columns):\n",
      " #   Column             Non-Null Count  Dtype         \n",
      "---  ------             --------------  -----         \n",
      " 0   Timestamp          995 non-null    datetime64[ns]\n",
      " 1   speed_over_ground  985 non-null    object        \n",
      " 2   Longitude          985 non-null    object        \n",
      " 3   Latitude           985 non-null    object        \n",
      " 4   engine_fuel_rate   985 non-null    object        \n",
      "dtypes: datetime64[ns](1), object(4)\n",
      "memory usage: 46.6+ KB\n",
      "None\n"
     ]
    }
   ],
   "source": [
    "print(cleaned_df.info())"
   ]
  },
  {
   "cell_type": "code",
   "execution_count": 383,
   "metadata": {},
   "outputs": [],
   "source": [
    "def clean_columns(df, col_name, low, high):\n",
    "    \n",
    "    # Convert column to numeric, making errors to Nan instead\n",
    "    df[col_name] = pd.to_numeric(df[col_name], errors=\"coerce\")\n",
    "\n",
    "    df = df[(df[col_name] >= low) & (df[col_name] <= high)]\n",
    "\n",
    "    df[col_name] = df[col_name].interpolate()\n",
    "\n",
    "    return df\n"
   ]
  },
  {
   "cell_type": "code",
   "execution_count": 384,
   "metadata": {},
   "outputs": [
    {
     "name": "stderr",
     "output_type": "stream",
     "text": [
      "/tmp/ipykernel_1433/4232730707.py:8: SettingWithCopyWarning: \n",
      "A value is trying to be set on a copy of a slice from a DataFrame.\n",
      "Try using .loc[row_indexer,col_indexer] = value instead\n",
      "\n",
      "See the caveats in the documentation: https://pandas.pydata.org/pandas-docs/stable/user_guide/indexing.html#returning-a-view-versus-a-copy\n",
      "  df[col_name] = df[col_name].interpolate()\n"
     ]
    }
   ],
   "source": [
    "column = clean_columns(cleaned_df, \"Longitude\", -180, 180)"
   ]
  },
  {
   "cell_type": "code",
   "execution_count": 386,
   "metadata": {},
   "outputs": [
    {
     "name": "stdout",
     "output_type": "stream",
     "text": [
      "<class 'pandas.core.frame.DataFrame'>\n",
      "Index: 970 entries, 0 to 999\n",
      "Data columns (total 5 columns):\n",
      " #   Column             Non-Null Count  Dtype         \n",
      "---  ------             --------------  -----         \n",
      " 0   Timestamp          970 non-null    datetime64[ns]\n",
      " 1   speed_over_ground  961 non-null    object        \n",
      " 2   Longitude          970 non-null    float64       \n",
      " 3   Latitude           960 non-null    object        \n",
      " 4   engine_fuel_rate   960 non-null    object        \n",
      "dtypes: datetime64[ns](1), float64(1), object(3)\n",
      "memory usage: 45.5+ KB\n"
     ]
    }
   ],
   "source": [
    "column.info()"
   ]
  },
  {
   "cell_type": "code",
   "execution_count": 387,
   "metadata": {},
   "outputs": [
    {
     "data": {
      "text/html": [
       "<div>\n",
       "<style scoped>\n",
       "    .dataframe tbody tr th:only-of-type {\n",
       "        vertical-align: middle;\n",
       "    }\n",
       "\n",
       "    .dataframe tbody tr th {\n",
       "        vertical-align: top;\n",
       "    }\n",
       "\n",
       "    .dataframe thead th {\n",
       "        text-align: right;\n",
       "    }\n",
       "</style>\n",
       "<table border=\"1\" class=\"dataframe\">\n",
       "  <thead>\n",
       "    <tr style=\"text-align: right;\">\n",
       "      <th></th>\n",
       "      <th>Timestamp</th>\n",
       "      <th>speed_over_ground</th>\n",
       "      <th>Longitude</th>\n",
       "      <th>Latitude</th>\n",
       "      <th>engine_fuel_rate</th>\n",
       "    </tr>\n",
       "  </thead>\n",
       "  <tbody>\n",
       "  </tbody>\n",
       "</table>\n",
       "</div>"
      ],
      "text/plain": [
       "Empty DataFrame\n",
       "Columns: [Timestamp, speed_over_ground, Longitude, Latitude, engine_fuel_rate]\n",
       "Index: []"
      ]
     },
     "execution_count": 387,
     "metadata": {},
     "output_type": "execute_result"
    }
   ],
   "source": [
    "column.loc[(column[\"Longitude\"] < -180) | (column[\"Longitude\"] > 180)]"
   ]
  },
  {
   "cell_type": "code",
   "execution_count": 390,
   "metadata": {},
   "outputs": [
    {
     "name": "stdout",
     "output_type": "stream",
     "text": [
      "Number of Cells with 'ERROR' in Longitude: 0\n"
     ]
    }
   ],
   "source": [
    "print(f\"Number of Cells with 'ERROR' in Longitude: {(column['Longitude'] == 'ERROR').sum()}\")\n"
   ]
  },
  {
   "cell_type": "code",
   "execution_count": 393,
   "metadata": {},
   "outputs": [
    {
     "name": "stdout",
     "output_type": "stream",
     "text": [
      "There are no NaN values in the column.\n"
     ]
    }
   ],
   "source": [
    "if column[\"Longitude\"].isnull().any():\n",
    "    print(\"There are NaN values in the column.\")\n",
    "else:\n",
    "    print(\"There are no NaN values in the column.\")"
   ]
  },
  {
   "cell_type": "code",
   "execution_count": 394,
   "metadata": {},
   "outputs": [
    {
     "name": "stderr",
     "output_type": "stream",
     "text": [
      "/tmp/ipykernel_1433/4232730707.py:4: SettingWithCopyWarning: \n",
      "A value is trying to be set on a copy of a slice from a DataFrame.\n",
      "Try using .loc[row_indexer,col_indexer] = value instead\n",
      "\n",
      "See the caveats in the documentation: https://pandas.pydata.org/pandas-docs/stable/user_guide/indexing.html#returning-a-view-versus-a-copy\n",
      "  df[col_name] = pd.to_numeric(df[col_name], errors=\"coerce\")\n",
      "/tmp/ipykernel_1433/4232730707.py:8: SettingWithCopyWarning: \n",
      "A value is trying to be set on a copy of a slice from a DataFrame.\n",
      "Try using .loc[row_indexer,col_indexer] = value instead\n",
      "\n",
      "See the caveats in the documentation: https://pandas.pydata.org/pandas-docs/stable/user_guide/indexing.html#returning-a-view-versus-a-copy\n",
      "  df[col_name] = df[col_name].interpolate()\n"
     ]
    }
   ],
   "source": [
    "speed_over_ground = clean_columns(column, \"speed_over_ground\", 0,20)"
   ]
  },
  {
   "cell_type": "code",
   "execution_count": 399,
   "metadata": {},
   "outputs": [
    {
     "data": {
      "text/html": [
       "<div>\n",
       "<style scoped>\n",
       "    .dataframe tbody tr th:only-of-type {\n",
       "        vertical-align: middle;\n",
       "    }\n",
       "\n",
       "    .dataframe tbody tr th {\n",
       "        vertical-align: top;\n",
       "    }\n",
       "\n",
       "    .dataframe thead th {\n",
       "        text-align: right;\n",
       "    }\n",
       "</style>\n",
       "<table border=\"1\" class=\"dataframe\">\n",
       "  <thead>\n",
       "    <tr style=\"text-align: right;\">\n",
       "      <th></th>\n",
       "      <th>Timestamp</th>\n",
       "      <th>speed_over_ground</th>\n",
       "      <th>Longitude</th>\n",
       "      <th>Latitude</th>\n",
       "      <th>engine_fuel_rate</th>\n",
       "    </tr>\n",
       "  </thead>\n",
       "  <tbody>\n",
       "    <tr>\n",
       "      <th>0</th>\n",
       "      <td>2023-01-30 23:00:00</td>\n",
       "      <td>3.08</td>\n",
       "      <td>-119.605263</td>\n",
       "      <td>35.162237</td>\n",
       "      <td>14.92</td>\n",
       "    </tr>\n",
       "    <tr>\n",
       "      <th>1</th>\n",
       "      <td>2023-01-30 23:00:01</td>\n",
       "      <td>4.11</td>\n",
       "      <td>-118.857776</td>\n",
       "      <td>35.228734</td>\n",
       "      <td>21.02</td>\n",
       "    </tr>\n",
       "    <tr>\n",
       "      <th>2</th>\n",
       "      <td>2023-01-30 23:00:02</td>\n",
       "      <td>4.04</td>\n",
       "      <td>-118.110278</td>\n",
       "      <td>35.295227</td>\n",
       "      <td>20.53</td>\n",
       "    </tr>\n",
       "    <tr>\n",
       "      <th>3</th>\n",
       "      <td>2023-01-30 23:00:03</td>\n",
       "      <td>3.50</td>\n",
       "      <td>-117.362786</td>\n",
       "      <td>35.361725</td>\n",
       "      <td>17.21</td>\n",
       "    </tr>\n",
       "    <tr>\n",
       "      <th>5</th>\n",
       "      <td>2023-01-30 23:00:05</td>\n",
       "      <td>3.62</td>\n",
       "      <td>-115.867809</td>\n",
       "      <td>35.494706</td>\n",
       "      <td>17.78</td>\n",
       "    </tr>\n",
       "    <tr>\n",
       "      <th>...</th>\n",
       "      <td>...</td>\n",
       "      <td>...</td>\n",
       "      <td>...</td>\n",
       "      <td>...</td>\n",
       "      <td>...</td>\n",
       "    </tr>\n",
       "    <tr>\n",
       "      <th>994</th>\n",
       "      <td>2023-01-30 23:16:34</td>\n",
       "      <td>16.27</td>\n",
       "      <td>89.370456</td>\n",
       "      <td>51.31197</td>\n",
       "      <td>81.66</td>\n",
       "    </tr>\n",
       "    <tr>\n",
       "      <th>995</th>\n",
       "      <td>2023-01-30 23:16:35</td>\n",
       "      <td>16.18</td>\n",
       "      <td>89.499749</td>\n",
       "      <td>51.884541</td>\n",
       "      <td>81.06</td>\n",
       "    </tr>\n",
       "    <tr>\n",
       "      <th>996</th>\n",
       "      <td>2023-01-30 23:16:36</td>\n",
       "      <td>16.26</td>\n",
       "      <td>89.629043</td>\n",
       "      <td>ERROR</td>\n",
       "      <td>81.49</td>\n",
       "    </tr>\n",
       "    <tr>\n",
       "      <th>998</th>\n",
       "      <td>2023-01-30 23:16:38</td>\n",
       "      <td>15.93</td>\n",
       "      <td>89.887628</td>\n",
       "      <td>53.602249</td>\n",
       "      <td>79.4</td>\n",
       "    </tr>\n",
       "    <tr>\n",
       "      <th>999</th>\n",
       "      <td>2023-01-30 23:16:39</td>\n",
       "      <td>16.22</td>\n",
       "      <td>90.016929</td>\n",
       "      <td>54.174817</td>\n",
       "      <td>81.09</td>\n",
       "    </tr>\n",
       "  </tbody>\n",
       "</table>\n",
       "<p>947 rows × 5 columns</p>\n",
       "</div>"
      ],
      "text/plain": [
       "              Timestamp  speed_over_ground   Longitude   Latitude  \\\n",
       "0   2023-01-30 23:00:00               3.08 -119.605263  35.162237   \n",
       "1   2023-01-30 23:00:01               4.11 -118.857776  35.228734   \n",
       "2   2023-01-30 23:00:02               4.04 -118.110278  35.295227   \n",
       "3   2023-01-30 23:00:03               3.50 -117.362786  35.361725   \n",
       "5   2023-01-30 23:00:05               3.62 -115.867809  35.494706   \n",
       "..                  ...                ...         ...        ...   \n",
       "994 2023-01-30 23:16:34              16.27   89.370456   51.31197   \n",
       "995 2023-01-30 23:16:35              16.18   89.499749  51.884541   \n",
       "996 2023-01-30 23:16:36              16.26   89.629043      ERROR   \n",
       "998 2023-01-30 23:16:38              15.93   89.887628  53.602249   \n",
       "999 2023-01-30 23:16:39              16.22   90.016929  54.174817   \n",
       "\n",
       "    engine_fuel_rate  \n",
       "0              14.92  \n",
       "1              21.02  \n",
       "2              20.53  \n",
       "3              17.21  \n",
       "5              17.78  \n",
       "..               ...  \n",
       "994            81.66  \n",
       "995            81.06  \n",
       "996            81.49  \n",
       "998             79.4  \n",
       "999            81.09  \n",
       "\n",
       "[947 rows x 5 columns]"
      ]
     },
     "execution_count": 399,
     "metadata": {},
     "output_type": "execute_result"
    }
   ],
   "source": [
    "speed_over_ground"
   ]
  },
  {
   "cell_type": "code",
   "execution_count": 397,
   "metadata": {},
   "outputs": [
    {
     "data": {
      "text/html": [
       "<div>\n",
       "<style scoped>\n",
       "    .dataframe tbody tr th:only-of-type {\n",
       "        vertical-align: middle;\n",
       "    }\n",
       "\n",
       "    .dataframe tbody tr th {\n",
       "        vertical-align: top;\n",
       "    }\n",
       "\n",
       "    .dataframe thead th {\n",
       "        text-align: right;\n",
       "    }\n",
       "</style>\n",
       "<table border=\"1\" class=\"dataframe\">\n",
       "  <thead>\n",
       "    <tr style=\"text-align: right;\">\n",
       "      <th></th>\n",
       "      <th>Timestamp</th>\n",
       "      <th>speed_over_ground</th>\n",
       "      <th>Longitude</th>\n",
       "      <th>Latitude</th>\n",
       "      <th>engine_fuel_rate</th>\n",
       "    </tr>\n",
       "  </thead>\n",
       "  <tbody>\n",
       "  </tbody>\n",
       "</table>\n",
       "</div>"
      ],
      "text/plain": [
       "Empty DataFrame\n",
       "Columns: [Timestamp, speed_over_ground, Longitude, Latitude, engine_fuel_rate]\n",
       "Index: []"
      ]
     },
     "execution_count": 397,
     "metadata": {},
     "output_type": "execute_result"
    }
   ],
   "source": [
    "speed_over_ground.loc[(speed_over_ground[\"speed_over_ground\"] < 0) | (column[\"speed_over_ground\"] > 20)]"
   ]
  },
  {
   "cell_type": "code",
   "execution_count": 398,
   "metadata": {},
   "outputs": [
    {
     "name": "stdout",
     "output_type": "stream",
     "text": [
      "Number of Cells with 'ERROR' in speed over ground: 0\n",
      "There are no NaN values in the column.\n"
     ]
    }
   ],
   "source": [
    "print(f\"Number of Cells with 'ERROR' in speed over ground: {(speed_over_ground['speed_over_ground'] == 'ERROR').sum()}\")\n",
    "\n",
    "if speed_over_ground[\"speed_over_ground\"].isnull().any():\n",
    "    print(\"There are NaN values in the column.\")\n",
    "else:\n",
    "    print(\"There are no NaN values in the column.\")"
   ]
  }
 ],
 "metadata": {
  "kernelspec": {
   "display_name": "venv",
   "language": "python",
   "name": "python3"
  },
  "language_info": {
   "codemirror_mode": {
    "name": "ipython",
    "version": 3
   },
   "file_extension": ".py",
   "mimetype": "text/x-python",
   "name": "python",
   "nbconvert_exporter": "python",
   "pygments_lexer": "ipython3",
   "version": "3.11.7"
  }
 },
 "nbformat": 4,
 "nbformat_minor": 2
}
